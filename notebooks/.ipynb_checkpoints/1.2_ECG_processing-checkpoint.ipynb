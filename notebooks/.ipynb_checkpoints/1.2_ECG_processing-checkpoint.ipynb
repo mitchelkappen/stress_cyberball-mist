{
 "cells": [
  {
   "cell_type": "markdown",
   "id": "d8b8789b-3c9c-48f7-adb2-b5faa4dfe358",
   "metadata": {},
   "source": [
    "# Extract R-peaks from ECG files"
   ]
  },
  {
   "cell_type": "code",
   "execution_count": 1,
   "id": "8ffa95b2-c08d-48ae-b36c-88ea4a01ef51",
   "metadata": {},
   "outputs": [],
   "source": [
    "%load_ext autoreload\n",
    "%autoreload 2"
   ]
  },
  {
   "cell_type": "code",
   "execution_count": 13,
   "id": "40659e58-55db-43a4-b4ec-f7030b0a1c4d",
   "metadata": {},
   "outputs": [
    {
     "ename": "ImportError",
     "evalue": "cannot import name 'process_ecg' from 'study_scripts.process_ecg' (C:\\Users\\mitch\\OneDrive - UGent\\Documents\\GitHub\\stress_cyberball-mist\\notebooks\\study_scripts\\process_ecg.py)",
     "output_type": "error",
     "traceback": [
      "\u001b[1;31m---------------------------------------------------------------------------\u001b[0m",
      "\u001b[1;31mImportError\u001b[0m                               Traceback (most recent call last)",
      "\u001b[1;32m~\\AppData\\Local\\Temp/ipykernel_10172/712342112.py\u001b[0m in \u001b[0;36m<module>\u001b[1;34m\u001b[0m\n\u001b[0;32m      5\u001b[0m \u001b[1;32mfrom\u001b[0m \u001b[0mtqdm\u001b[0m\u001b[1;33m.\u001b[0m\u001b[0mauto\u001b[0m \u001b[1;32mimport\u001b[0m \u001b[0mtqdm\u001b[0m\u001b[1;33m\u001b[0m\u001b[1;33m\u001b[0m\u001b[0m\n\u001b[0;32m      6\u001b[0m \u001b[1;33m\u001b[0m\u001b[0m\n\u001b[1;32m----> 7\u001b[1;33m \u001b[1;32mfrom\u001b[0m \u001b[0mstudy_scripts\u001b[0m\u001b[1;33m.\u001b[0m\u001b[0mprocess_ecg\u001b[0m \u001b[1;32mimport\u001b[0m \u001b[0mprocess_ecg\u001b[0m\u001b[1;33m\u001b[0m\u001b[1;33m\u001b[0m\u001b[0m\n\u001b[0m",
      "\u001b[1;31mImportError\u001b[0m: cannot import name 'process_ecg' from 'study_scripts.process_ecg' (C:\\Users\\mitch\\OneDrive - UGent\\Documents\\GitHub\\stress_cyberball-mist\\notebooks\\study_scripts\\process_ecg.py)"
     ]
    }
   ],
   "source": [
    "import os\n",
    "from pathlib import Path\n",
    "\n",
    "import pandas as pd\n",
    "from tqdm.auto import tqdm\n",
    "\n",
    "from study_scripts.process_ecg import process_ecg"
   ]
  }
 ],
 "metadata": {
  "kernelspec": {
   "display_name": "Python 3 (ipykernel)",
   "language": "python",
   "name": "python3"
  },
  "language_info": {
   "codemirror_mode": {
    "name": "ipython",
    "version": 3
   },
   "file_extension": ".py",
   "mimetype": "text/x-python",
   "name": "python",
   "nbconvert_exporter": "python",
   "pygments_lexer": "ipython3",
   "version": "3.9.6"
  }
 },
 "nbformat": 4,
 "nbformat_minor": 5
}
