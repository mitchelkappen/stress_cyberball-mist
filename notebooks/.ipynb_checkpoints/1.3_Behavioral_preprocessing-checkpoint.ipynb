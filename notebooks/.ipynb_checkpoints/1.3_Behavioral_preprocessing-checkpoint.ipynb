{
 "cells": [
  {
   "cell_type": "markdown",
   "id": "5b3f3823-c5c0-4062-b618-323db61c259f",
   "metadata": {},
   "source": [
    "# Loading in all behavioral csv files and compiling into one workable file"
   ]
  },
  {
   "cell_type": "code",
   "execution_count": 1,
   "id": "82925c69-0550-4034-94f6-38ad48762e7e",
   "metadata": {},
   "outputs": [],
   "source": [
    "%load_ext autoreload\n",
    "%autoreload 2"
   ]
  },
  {
   "cell_type": "code",
   "execution_count": 2,
   "id": "203f9656-89fe-4cdd-b7dd-c2b47bff131f",
   "metadata": {},
   "outputs": [],
   "source": [
    "from pathlib import Path\n",
    "from tqdm.auto import tqdm\n",
    "import pandas as pd\n",
    "from IPython.display import display\n",
    "import numpy as np"
   ]
  },
  {
   "cell_type": "code",
   "execution_count": 3,
   "id": "a12ca30a-0e32-47da-bc0d-beb6d6b4e61d",
   "metadata": {},
   "outputs": [],
   "source": [
    "# configure user\n",
    "user = \"mitchel\"\n",
    "extracted_feats = False\n",
    "\n",
    "if user.lower() == \"jonas\":\n",
    "    BASE_PATH = Path(\"/users/jonvdrdo/jonas/data/aaa_contextaware/raw/uz_study/\")\n",
    "elif user.lower() == \"mitchel\":\n",
    "#     BASE_PATH = Path(\"Z:/shares/ghep_lab/2021_VanhollebekeKappen_EEGStudy2_MIST_Cyberball_Audio/\")\n",
    "    BASE_PATH = Path(\"D:/Data/EEG_Study_2\")\n",
    "DATA_PATH = BASE_PATH.joinpath(\"Data/Raw/Behavioral\")"
   ]
  },
  {
   "cell_type": "code",
   "execution_count": 43,
   "id": "cbd58b15-4f99-4be9-a49d-6903070c810f",
   "metadata": {},
   "outputs": [],
   "source": [
    "# Some files are faulty/empty whatever, so exclude those\n",
    "excluded_files = [\"D:\\Data\\EEG_Study_2\\Data\\Raw\\Behavioral\\ppt_50_cybb.csv\", \n",
    "                  \"D:\\Data\\EEG_Study_2\\Data\\Raw\\Behavioral\\ppt_51_mist.csv\",\n",
    "                 \"D:\\Data\\EEG_Study_2\\Data\\Raw\\Behavioral\\ppt_67_mist.csv\",\n",
    "                 \"D:\\Data\\EEG_Study_2\\Data\\Raw\\Behavioral\\ppt_69_mist.csv\"]"
   ]
  },
  {
   "cell_type": "code",
   "execution_count": 44,
   "id": "d67dbea5-7370-453d-b2a4-761b7ea6be66",
   "metadata": {
    "scrolled": true,
    "tags": []
   },
   "outputs": [
    {
     "data": {
      "application/vnd.jupyter.widget-view+json": {
       "model_id": "634381d1d2df4683a315464d81c8dbcf",
       "version_major": 2,
       "version_minor": 0
      },
      "text/plain": [
       "  0%|          | 0/66 [00:00<?, ?it/s]"
      ]
     },
     "metadata": {},
     "output_type": "display_data"
    },
    {
     "name": "stdout",
     "output_type": "stream",
     "text": [
      "D:\\Data\\EEG_Study_2\\Data\\Raw\\Behavioral\\ppt_10_cybb.csv\n",
      "D:\\Data\\EEG_Study_2\\Data\\Raw\\Behavioral\\ppt_11_cybb.csv\n",
      "D:\\Data\\EEG_Study_2\\Data\\Raw\\Behavioral\\ppt_12_cybb.csv\n",
      "D:\\Data\\EEG_Study_2\\Data\\Raw\\Behavioral\\ppt_13_cybb.csv\n",
      "D:\\Data\\EEG_Study_2\\Data\\Raw\\Behavioral\\ppt_14_cybb.csv\n",
      "D:\\Data\\EEG_Study_2\\Data\\Raw\\Behavioral\\ppt_15_cybb.csv\n",
      "D:\\Data\\EEG_Study_2\\Data\\Raw\\Behavioral\\ppt_16_cybb.csv\n",
      "D:\\Data\\EEG_Study_2\\Data\\Raw\\Behavioral\\ppt_17_cybb.csv\n",
      "D:\\Data\\EEG_Study_2\\Data\\Raw\\Behavioral\\ppt_18_cybb.csv\n",
      "D:\\Data\\EEG_Study_2\\Data\\Raw\\Behavioral\\ppt_19_cybb.csv\n",
      "D:\\Data\\EEG_Study_2\\Data\\Raw\\Behavioral\\ppt_20_cybb.csv\n",
      "D:\\Data\\EEG_Study_2\\Data\\Raw\\Behavioral\\ppt_21_cybb.csv\n",
      "D:\\Data\\EEG_Study_2\\Data\\Raw\\Behavioral\\ppt_22_cybb.csv\n",
      "D:\\Data\\EEG_Study_2\\Data\\Raw\\Behavioral\\ppt_23_cybb.csv\n",
      "D:\\Data\\EEG_Study_2\\Data\\Raw\\Behavioral\\ppt_24_cybb.csv\n",
      "D:\\Data\\EEG_Study_2\\Data\\Raw\\Behavioral\\ppt_25_cybb.csv\n",
      "D:\\Data\\EEG_Study_2\\Data\\Raw\\Behavioral\\ppt_27_cybb.csv\n",
      "D:\\Data\\EEG_Study_2\\Data\\Raw\\Behavioral\\ppt_28_cybb.csv\n",
      "D:\\Data\\EEG_Study_2\\Data\\Raw\\Behavioral\\ppt_29_cybb.csv\n",
      "D:\\Data\\EEG_Study_2\\Data\\Raw\\Behavioral\\ppt_2_cybb.csv\n",
      "D:\\Data\\EEG_Study_2\\Data\\Raw\\Behavioral\\ppt_30_cybb.csv\n",
      "D:\\Data\\EEG_Study_2\\Data\\Raw\\Behavioral\\ppt_31_cybb.csv\n",
      "D:\\Data\\EEG_Study_2\\Data\\Raw\\Behavioral\\ppt_32_cybb.csv\n",
      "D:\\Data\\EEG_Study_2\\Data\\Raw\\Behavioral\\ppt_33_cybb.csv\n",
      "D:\\Data\\EEG_Study_2\\Data\\Raw\\Behavioral\\ppt_34_cybb.csv\n",
      "D:\\Data\\EEG_Study_2\\Data\\Raw\\Behavioral\\ppt_35_cybb.csv\n",
      "D:\\Data\\EEG_Study_2\\Data\\Raw\\Behavioral\\ppt_36_cybb.csv\n",
      "D:\\Data\\EEG_Study_2\\Data\\Raw\\Behavioral\\ppt_37_cybb.csv\n",
      "D:\\Data\\EEG_Study_2\\Data\\Raw\\Behavioral\\ppt_38_cybb.csv\n",
      "D:\\Data\\EEG_Study_2\\Data\\Raw\\Behavioral\\ppt_39_cybb.csv\n",
      "D:\\Data\\EEG_Study_2\\Data\\Raw\\Behavioral\\ppt_40_cybb.csv\n",
      "D:\\Data\\EEG_Study_2\\Data\\Raw\\Behavioral\\ppt_41_cybb.csv\n",
      "D:\\Data\\EEG_Study_2\\Data\\Raw\\Behavioral\\ppt_42_cybb.csv\n",
      "D:\\Data\\EEG_Study_2\\Data\\Raw\\Behavioral\\ppt_43_cybb.csv\n",
      "D:\\Data\\EEG_Study_2\\Data\\Raw\\Behavioral\\ppt_44_cybb.csv\n",
      "D:\\Data\\EEG_Study_2\\Data\\Raw\\Behavioral\\ppt_45_cybb.csv\n",
      "D:\\Data\\EEG_Study_2\\Data\\Raw\\Behavioral\\ppt_46_cybb.csv\n",
      "D:\\Data\\EEG_Study_2\\Data\\Raw\\Behavioral\\ppt_47_cybb.csv\n",
      "D:\\Data\\EEG_Study_2\\Data\\Raw\\Behavioral\\ppt_48_cybb.csv\n",
      "D:\\Data\\EEG_Study_2\\Data\\Raw\\Behavioral\\ppt_49_cybb.csv\n",
      "D:\\Data\\EEG_Study_2\\Data\\Raw\\Behavioral\\ppt_4_cybb.csv\n",
      "D:\\Data\\EEG_Study_2\\Data\\Raw\\Behavioral\\ppt_50_cybb.csv\n",
      "D:\\Data\\EEG_Study_2\\Data\\Raw\\Behavioral\\ppt_51_cybb.csv\n",
      "D:\\Data\\EEG_Study_2\\Data\\Raw\\Behavioral\\ppt_52_cybb.csv\n",
      "D:\\Data\\EEG_Study_2\\Data\\Raw\\Behavioral\\ppt_53_cybb.csv\n",
      "D:\\Data\\EEG_Study_2\\Data\\Raw\\Behavioral\\ppt_54_cybb.csv\n",
      "D:\\Data\\EEG_Study_2\\Data\\Raw\\Behavioral\\ppt_55_cybb.csv\n",
      "D:\\Data\\EEG_Study_2\\Data\\Raw\\Behavioral\\ppt_56_cybb.csv\n",
      "D:\\Data\\EEG_Study_2\\Data\\Raw\\Behavioral\\ppt_57_cybb.csv\n",
      "D:\\Data\\EEG_Study_2\\Data\\Raw\\Behavioral\\ppt_58_cybb.csv\n",
      "D:\\Data\\EEG_Study_2\\Data\\Raw\\Behavioral\\ppt_59_cybb.csv\n",
      "D:\\Data\\EEG_Study_2\\Data\\Raw\\Behavioral\\ppt_5_cybb.csv\n",
      "D:\\Data\\EEG_Study_2\\Data\\Raw\\Behavioral\\ppt_60_cybb.csv\n",
      "D:\\Data\\EEG_Study_2\\Data\\Raw\\Behavioral\\ppt_61_cybb.csv\n",
      "D:\\Data\\EEG_Study_2\\Data\\Raw\\Behavioral\\ppt_62_cybb.csv\n",
      "D:\\Data\\EEG_Study_2\\Data\\Raw\\Behavioral\\ppt_63_cybb.csv\n",
      "D:\\Data\\EEG_Study_2\\Data\\Raw\\Behavioral\\ppt_64_cybb.csv\n",
      "D:\\Data\\EEG_Study_2\\Data\\Raw\\Behavioral\\ppt_6_cybb.csv\n",
      "D:\\Data\\EEG_Study_2\\Data\\Raw\\Behavioral\\ppt_7_cybb.csv\n",
      "D:\\Data\\EEG_Study_2\\Data\\Raw\\Behavioral\\ppt_8_cybb.csv\n",
      "D:\\Data\\EEG_Study_2\\Data\\Raw\\Behavioral\\ppt_9_cybb.csv\n",
      "D:\\Data\\EEG_Study_2\\Data\\Raw\\Behavioral\\ppt_69_cybb.csv\n",
      "D:\\Data\\EEG_Study_2\\Data\\Raw\\Behavioral\\ppt_70_cybb.csv\n",
      "D:\\Data\\EEG_Study_2\\Data\\Raw\\Behavioral\\ppt_71_cybb.csv\n",
      "D:\\Data\\EEG_Study_2\\Data\\Raw\\Behavioral\\ppt_72_cybb.csv\n",
      "D:\\Data\\EEG_Study_2\\Data\\Raw\\Behavioral\\ppt_73_cybb.csv\n"
     ]
    },
    {
     "data": {
      "application/vnd.jupyter.widget-view+json": {
       "model_id": "41c4a106febf45178edd8078316ca855",
       "version_major": 2,
       "version_minor": 0
      },
      "text/plain": [
       "  0%|          | 0/61 [00:00<?, ?it/s]"
      ]
     },
     "metadata": {},
     "output_type": "display_data"
    },
    {
     "name": "stdout",
     "output_type": "stream",
     "text": [
      "D:\\Data\\EEG_Study_2\\Data\\Raw\\Behavioral\\ppt_10_mist.csv\n",
      "D:\\Data\\EEG_Study_2\\Data\\Raw\\Behavioral\\ppt_11_mist.csv\n",
      "D:\\Data\\EEG_Study_2\\Data\\Raw\\Behavioral\\ppt_12_mist.csv\n",
      "D:\\Data\\EEG_Study_2\\Data\\Raw\\Behavioral\\ppt_13_mist.csv\n",
      "D:\\Data\\EEG_Study_2\\Data\\Raw\\Behavioral\\ppt_14_mist.csv\n",
      "D:\\Data\\EEG_Study_2\\Data\\Raw\\Behavioral\\ppt_15_mist.csv\n",
      "D:\\Data\\EEG_Study_2\\Data\\Raw\\Behavioral\\ppt_16_mist.csv\n",
      "D:\\Data\\EEG_Study_2\\Data\\Raw\\Behavioral\\ppt_17_mist.csv\n",
      "D:\\Data\\EEG_Study_2\\Data\\Raw\\Behavioral\\ppt_18_mist.csv\n",
      "D:\\Data\\EEG_Study_2\\Data\\Raw\\Behavioral\\ppt_19_mist.csv\n",
      "D:\\Data\\EEG_Study_2\\Data\\Raw\\Behavioral\\ppt_21_mist.csv\n",
      "D:\\Data\\EEG_Study_2\\Data\\Raw\\Behavioral\\ppt_22_mist.csv\n",
      "D:\\Data\\EEG_Study_2\\Data\\Raw\\Behavioral\\ppt_23_mist.csv\n",
      "D:\\Data\\EEG_Study_2\\Data\\Raw\\Behavioral\\ppt_24_mist.csv\n",
      "D:\\Data\\EEG_Study_2\\Data\\Raw\\Behavioral\\ppt_25_mist.csv\n",
      "D:\\Data\\EEG_Study_2\\Data\\Raw\\Behavioral\\ppt_27_mist.csv\n",
      "D:\\Data\\EEG_Study_2\\Data\\Raw\\Behavioral\\ppt_28_mist.csv\n",
      "D:\\Data\\EEG_Study_2\\Data\\Raw\\Behavioral\\ppt_29_mist.csv\n",
      "D:\\Data\\EEG_Study_2\\Data\\Raw\\Behavioral\\ppt_2_mist.csv\n",
      "D:\\Data\\EEG_Study_2\\Data\\Raw\\Behavioral\\ppt_30_mist.csv\n",
      "D:\\Data\\EEG_Study_2\\Data\\Raw\\Behavioral\\ppt_31_mist.csv\n",
      "D:\\Data\\EEG_Study_2\\Data\\Raw\\Behavioral\\ppt_32_mist.csv\n",
      "D:\\Data\\EEG_Study_2\\Data\\Raw\\Behavioral\\ppt_33_mist.csv\n",
      "D:\\Data\\EEG_Study_2\\Data\\Raw\\Behavioral\\ppt_34_mist.csv\n",
      "D:\\Data\\EEG_Study_2\\Data\\Raw\\Behavioral\\ppt_35_mist.csv\n",
      "D:\\Data\\EEG_Study_2\\Data\\Raw\\Behavioral\\ppt_36_mist.csv\n",
      "D:\\Data\\EEG_Study_2\\Data\\Raw\\Behavioral\\ppt_37_mist.csv\n",
      "D:\\Data\\EEG_Study_2\\Data\\Raw\\Behavioral\\ppt_39_mist.csv\n",
      "D:\\Data\\EEG_Study_2\\Data\\Raw\\Behavioral\\ppt_40_mist.csv\n",
      "D:\\Data\\EEG_Study_2\\Data\\Raw\\Behavioral\\ppt_41_mist.csv\n",
      "D:\\Data\\EEG_Study_2\\Data\\Raw\\Behavioral\\ppt_42_mist.csv\n",
      "D:\\Data\\EEG_Study_2\\Data\\Raw\\Behavioral\\ppt_43_mist.csv\n",
      "D:\\Data\\EEG_Study_2\\Data\\Raw\\Behavioral\\ppt_44_mist.csv\n",
      "D:\\Data\\EEG_Study_2\\Data\\Raw\\Behavioral\\ppt_45_mist.csv\n",
      "D:\\Data\\EEG_Study_2\\Data\\Raw\\Behavioral\\ppt_46_mist.csv\n",
      "D:\\Data\\EEG_Study_2\\Data\\Raw\\Behavioral\\ppt_47_mist.csv\n",
      "D:\\Data\\EEG_Study_2\\Data\\Raw\\Behavioral\\ppt_48_mist.csv\n",
      "D:\\Data\\EEG_Study_2\\Data\\Raw\\Behavioral\\ppt_4_mist.csv\n",
      "D:\\Data\\EEG_Study_2\\Data\\Raw\\Behavioral\\ppt_51_mist.csv\n",
      "D:\\Data\\EEG_Study_2\\Data\\Raw\\Behavioral\\ppt_52_mist.csv\n",
      "D:\\Data\\EEG_Study_2\\Data\\Raw\\Behavioral\\ppt_53_mist.csv\n",
      "D:\\Data\\EEG_Study_2\\Data\\Raw\\Behavioral\\ppt_54_mist.csv\n",
      "D:\\Data\\EEG_Study_2\\Data\\Raw\\Behavioral\\ppt_55_mist.csv\n",
      "D:\\Data\\EEG_Study_2\\Data\\Raw\\Behavioral\\ppt_56_mist.csv\n",
      "D:\\Data\\EEG_Study_2\\Data\\Raw\\Behavioral\\ppt_57_mist.csv\n",
      "D:\\Data\\EEG_Study_2\\Data\\Raw\\Behavioral\\ppt_59_mist.csv\n",
      "D:\\Data\\EEG_Study_2\\Data\\Raw\\Behavioral\\ppt_5_mist.csv\n",
      "D:\\Data\\EEG_Study_2\\Data\\Raw\\Behavioral\\ppt_60_mist.csv\n",
      "D:\\Data\\EEG_Study_2\\Data\\Raw\\Behavioral\\ppt_61_mist.csv\n",
      "D:\\Data\\EEG_Study_2\\Data\\Raw\\Behavioral\\ppt_62_mist.csv\n",
      "D:\\Data\\EEG_Study_2\\Data\\Raw\\Behavioral\\ppt_64_mist.csv\n",
      "D:\\Data\\EEG_Study_2\\Data\\Raw\\Behavioral\\ppt_6_mist.csv\n",
      "D:\\Data\\EEG_Study_2\\Data\\Raw\\Behavioral\\ppt_7_mist.csv\n",
      "D:\\Data\\EEG_Study_2\\Data\\Raw\\Behavioral\\ppt_8_mist.csv\n",
      "D:\\Data\\EEG_Study_2\\Data\\Raw\\Behavioral\\ppt_9_mist.csv\n",
      "D:\\Data\\EEG_Study_2\\Data\\Raw\\Behavioral\\ppt_66_mist.csv\n",
      "D:\\Data\\EEG_Study_2\\Data\\Raw\\Behavioral\\ppt_67_mist.csv\n",
      "D:\\Data\\EEG_Study_2\\Data\\Raw\\Behavioral\\ppt_69_mist.csv\n",
      "D:\\Data\\EEG_Study_2\\Data\\Raw\\Behavioral\\ppt_70_mist.csv\n",
      "D:\\Data\\EEG_Study_2\\Data\\Raw\\Behavioral\\ppt_71_mist.csv\n",
      "D:\\Data\\EEG_Study_2\\Data\\Raw\\Behavioral\\ppt_72_mist.csv\n"
     ]
    }
   ],
   "source": [
    "df_cybb = pd.DataFrame()\n",
    "for file in tqdm(list(DATA_PATH.glob(\"*cybb.csv\"))):\n",
    "    print(file)\n",
    "    if str(file) not in excluded_files:\n",
    "        df_cybb = df_cybb.append(pd.read_csv(file), ignore_index = True)\n",
    "\n",
    "df_mist = pd.DataFrame()\n",
    "for file in tqdm(list(DATA_PATH.glob(\"*mist.csv\"))):\n",
    "    print(file)\n",
    "    if str(file) not in excluded_files:\n",
    "        df_mist = df_mist.append(pd.read_csv(file), ignore_index = True)"
   ]
  },
  {
   "cell_type": "markdown",
   "id": "a68046db-60cd-4d43-91ea-d795e67bc864",
   "metadata": {},
   "source": [
    "# Extract relevant data from each dataframe and combine into 1 comprehensive dataframe for both tasks"
   ]
  },
  {
   "cell_type": "code",
   "execution_count": 93,
   "id": "cdc0dc39-da1e-44b2-ab0d-60a45bbfa477",
   "metadata": {},
   "outputs": [],
   "source": [
    "# Cyberball\n",
    "cybbdf = pd.concat([df_cybb['participant_ID'], df_cybb['participant_age'], df_cybb['participant_occupation'], df_cybb['participant_sequence'], df_cybb['participant_sex'], # Participant details\n",
    "                   df_cybb.filter(like='SCRS_Baseline_slider_'), df_cybb.filter(like='SCRS_Control_slider_'), df_cybb.filter(like='SCRS_Stress_slider_'), # SCRS\n",
    "                  df_cybb.filter(like='VAS_Baseline_Post_Rest_slider_'), df_cybb.filter(like='VAS_Control_Post_Rest_slider_'), df_cybb.filter(like='VAS_Control_slider_'), df_cybb.filter(like='VAS_Stress_Post_Rest_slider_'), df_cybb.filter(like='VAS_Stress_slider_'), # VAS\n",
    "                  df_cybb.filter(like='description_picture_baseline'), df_cybb.filter(like='description_picture_control'), df_cybb.filter(like='description_picture_stress') # picture descriptions\n",
    "                  ], axis=1)\n",
    "# Add mean questionnaire values\n",
    "cybbdf[\"Mean_SCRS_Baseline\"] = cybbdf.filter(like='SCRS_Baseline_slider_').mean(axis=1)\n",
    "cybbdf[\"Mean_SCRS_Control\"] = cybbdf.filter(like='SCRS_Control_slider_').mean(axis=1)\n",
    "cybbdf[\"Mean_SCRS_Stress\"] = cybbdf.filter(like='SCRS_Stress_slider_').mean(axis=1)\n",
    "\n",
    "cybbdf[\"Mean_VAS_Baseline\"] = cybbdf.filter(like='VAS_Baseline_Post_Rest_slider_').mean(axis=1)\n",
    "cybbdf[\"Mean_VAS_Control_Post_Rest\"] = cybbdf.filter(like='VAS_Control_Post_Rest_slider_').mean(axis=1)\n",
    "cybbdf[\"Mean_VAS_Control\"] = cybbdf.filter(like='VAS_Control_slider_').mean(axis=1)\n",
    "cybbdf[\"Mean_VAS_Stress_Post_Rest\"] = cybbdf.filter(like='VAS_Stress_Post_Rest_slider_').mean(axis=1)\n",
    "cybbdf[\"Mean_VAS_Stress\"] = cybbdf.filter(like='VAS_Stress_slider_').mean(axis=1)\n",
    "\n",
    "cybbdf['Task'] = 'CYBB'\n",
    "# cybbdf\n",
    "\n",
    "# MIST\n",
    "mistdf = pd.concat([df_mist['participant_ID'], df_mist['participant_age'], df_mist['participant_occupation'], df_mist['participant_sequence'], df_mist['participant_sex'], # Participant details\n",
    "                   df_mist.filter(like='SCRS_Baseline_slider_'), df_mist.filter(like='SCRS_Control_slider_'), df_mist.filter(like='SCRS_Stress_slider_'), # SCRS\n",
    "                  df_mist.filter(like='VAS_Baseline_Post_Rest_slider_'), df_mist.filter(like='VAS_Control_Post_Rest_slider_'), df_mist.filter(like='VAS_Control_slider_'), df_mist.filter(like='VAS_Stress_Post_Rest_slider_'), df_mist.filter(like='VAS_Stress_slider_'), # VAS\n",
    "                  df_mist.filter(like='description_picture_baseline'), df_mist.filter(like='description_picture_control'), df_mist.filter(like='description_picture_stress') # picture descriptions\n",
    "                  ], axis=1)\n",
    "\n",
    "# Add mean questionnaire values\n",
    "mistdf[\"Mean_SCRS_Baseline\"] = mistdf.filter(like='SCRS_Baseline_slider_').mean(axis=1)\n",
    "mistdf[\"Mean_SCRS_Control\"] = mistdf.filter(like='SCRS_Control_slider_').mean(axis=1)\n",
    "mistdf[\"Mean_SCRS_Stress\"] = mistdf.filter(like='SCRS_Stress_slider_').mean(axis=1)\n",
    "\n",
    "mistdf[\"Mean_VAS_Baseline\"] = mistdf.filter(like='VAS_Baseline_Post_Rest_slider_').mean(axis=1)\n",
    "mistdf[\"Mean_VAS_Control_Post_Rest\"] = mistdf.filter(like='VAS_Control_Post_Rest_slider_').mean(axis=1)\n",
    "mistdf[\"Mean_VAS_Control\"] = mistdf.filter(like='VAS_Control_slider_').mean(axis=1)\n",
    "mistdf[\"Mean_VAS_Stress_Post_Rest\"] = mistdf.filter(like='VAS_Stress_Post_Rest_slider_').mean(axis=1)\n",
    "mistdf[\"Mean_VAS_Stress\"] = mistdf.filter(like='VAS_Stress_slider_').mean(axis=1)\n",
    "\n",
    "mistdf['Task'] = 'MIST'\n",
    "# mistdf\n",
    "\n",
    "# Combine into massive dataframe\n",
    "behavioraldataComplete = cybbdf.append(mistdf)"
   ]
  },
  {
   "cell_type": "code",
   "execution_count": 98,
   "id": "7bb3a26a-728d-4351-935a-d2c72b659210",
   "metadata": {},
   "outputs": [],
   "source": [
    "behavioraldataComplete.to_parquet(\n",
    "        DATA_PATH.joinpath(\"behavioralData_CYBB_MIST.parquet\"), engine=\"fastparquet\")\n",
    "behavioraldataComplete.to_csv(DATA_PATH.joinpath(\"behavioralData_CYBB_MIST.csv\"))"
   ]
  }
 ],
 "metadata": {
  "kernelspec": {
   "display_name": "Python 3 (ipykernel)",
   "language": "python",
   "name": "python3"
  },
  "language_info": {
   "codemirror_mode": {
    "name": "ipython",
    "version": 3
   },
   "file_extension": ".py",
   "mimetype": "text/x-python",
   "name": "python",
   "nbconvert_exporter": "python",
   "pygments_lexer": "ipython3",
   "version": "3.9.6"
  }
 },
 "nbformat": 4,
 "nbformat_minor": 5
}
