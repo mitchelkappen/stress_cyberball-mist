{
 "cells": [
  {
   "cell_type": "code",
   "execution_count": 2,
   "id": "b7cd9ebb-0980-4638-901c-f9422325703f",
   "metadata": {},
   "outputs": [],
   "source": [
    "import pandas as pd\n",
    "from pathlib import Path\n",
    "from tqdm.auto import tqdm\n",
    "import numpy as np\n",
    "import os"
   ]
  },
  {
   "cell_type": "code",
   "execution_count": 3,
   "id": "c0742536-4ecd-4728-9778-d3817b0a6421",
   "metadata": {},
   "outputs": [],
   "source": [
    "%load_ext autoreload\n",
    "%autoreload 2"
   ]
  },
  {
   "cell_type": "code",
   "execution_count": 4,
   "id": "62b106c8-3ce0-4f03-8506-6553f0265faf",
   "metadata": {},
   "outputs": [
    {
     "name": "stderr",
     "output_type": "stream",
     "text": [
      "'pwd' is not recognized as an internal or external command,\n",
      "operable program or batch file.\n"
     ]
    }
   ],
   "source": [
    "!pwd"
   ]
  },
  {
   "cell_type": "code",
   "execution_count": 5,
   "id": "db532770-7063-4ca8-aecd-0fb904e01fc6",
   "metadata": {},
   "outputs": [],
   "source": [
    "cyberball_raw_dir = Path('Physiological (ECG, EDA, RSP)/')\n",
    "cyberball_interim_dir = Path('interim/')"
   ]
  },
  {
   "cell_type": "code",
   "execution_count": 6,
   "id": "90306d50-a0a6-41ec-9a89-9262b6cbea52",
   "metadata": {},
   "outputs": [
    {
     "data": {
      "application/vnd.jupyter.widget-view+json": {
       "model_id": "798a3f21972743cbb9ba0f15aaeb9f51",
       "version_major": 2,
       "version_minor": 0
      },
      "text/plain": [
       "0it [00:00, ?it/s]"
      ]
     },
     "metadata": {},
     "output_type": "display_data"
    }
   ],
   "source": [
    "for txt in tqdm(list(cyberball_raw_dir.glob(\"*.txt\"))):\n",
    "    # print(txt)\n",
    "    try:\n",
    "        _, _, patient_id, paradigm, signal = txt.name.split(\".\")[0].split(\"_\")\n",
    "        df_sig = pd.read_csv(\n",
    "            txt, skiprows=3, sep=\" \", names=[\"timestamp\", signal, \"trigger\", \"dunno\"]\n",
    "        )\n",
    "        t_start = pd.to_datetime(open(txt).readlines()[1].strip()).tz_localize(\n",
    "            \"Europe/Brussels\"\n",
    "        )\n",
    "        df_sig.timestamp = t_start + pd.to_timedelta(df_sig.timestamp, unit='ms')\n",
    "        df_sig = df_sig.set_index('timestamp').iloc[:, :2]\n",
    "        df_sig[signal] = df_sig[signal].astype(np.float32)\n",
    "        # df_sig[\"trigger\"] = df_sig[\"trigger\"].astype(np.int32)\n",
    "        save_dir = cyberball_interim_dir.joinpath(patient_id)\n",
    "        if not save_dir.is_dir():\n",
    "            os.makedirs(save_dir)\n",
    "        df_sig.to_parquet(save_dir.joinpath(f'{signal}_{paradigm}.parquet'))\n",
    "    except Exception as e:\n",
    "        print(\"[E]\", txt.name, e)\n",
    "    # /1024_ppt_8_cybb_SCL.txt"
   ]
  },
  {
   "cell_type": "code",
   "execution_count": 47,
   "id": "624217c5-9452-4299-9b0a-d9a9b78b6923",
   "metadata": {},
   "outputs": [],
   "source": [
    "from plotly_resampler import FigureWidgetResampler, FigureResampler, EfficientLTTB\n",
    "import plotly.graph_objects as go"
   ]
  },
  {
   "cell_type": "code",
   "execution_count": 48,
   "id": "8998eef1-dcb5-42e9-9eea-51ee9fc489a2",
   "metadata": {},
   "outputs": [],
   "source": [
    "from plotly.subplots import make_subplots"
   ]
  },
  {
   "cell_type": "code",
   "execution_count": 49,
   "id": "b5ef954e-c39c-4071-aaf9-69880a7b81a8",
   "metadata": {},
   "outputs": [],
   "source": [
    "import numpy as np"
   ]
  },
  {
   "cell_type": "code",
   "execution_count": 66,
   "id": "fdedbcc1-8130-4bcb-ab17-376456c7b4ac",
   "metadata": {},
   "outputs": [
    {
     "name": "stdout",
     "output_type": "stream",
     "text": [
      "275 ns ± 9.2 ns per loop (mean ± std. dev. of 7 runs, 1,000,000 loops each)\n"
     ]
    }
   ],
   "source": [
    "%%timeit\n",
    "int(s_i[0])"
   ]
  },
  {
   "cell_type": "code",
   "execution_count": 28,
   "id": "9a35069f-972c-40b6-b3a3-3f528770689e",
   "metadata": {},
   "outputs": [],
   "source": [
    "from datetime import datetime\n",
    "import lttbc\n",
    "from plotly_resampler import EfficientLTTB\n",
    "\n",
    "elttb = EfficientLTTB(interleave_gaps=False)"
   ]
  },
  {
   "cell_type": "code",
   "execution_count": 55,
   "id": "2dcd976f-ac37-47cb-9ec0-7e9b7d2d6985",
   "metadata": {},
   "outputs": [],
   "source": [
    "n = 50_000_000\n",
    "s = pd.Series(index=pd.date_range(datetime.now(), freq='1.23ms', periods=n), data=np.arange(n))\n",
    "\n",
    "s_v = s.cat.codes.values if str(s.dtype) == \"category\" else s.values\n",
    "s_i = s.index.values"
   ]
  },
  {
   "cell_type": "code",
   "execution_count": 91,
   "id": "960782f0-2956-4347-be4d-6816940d70b2",
   "metadata": {},
   "outputs": [
    {
     "name": "stdout",
     "output_type": "stream",
     "text": [
      "18.1 ms ± 1.99 ms per loop (mean ± std. dev. of 7 runs, 10 loops each)\n"
     ]
    }
   ],
   "source": [
    "%%timeit # the current (incorrect implementation) - 5M\n",
    "elttb._aggregate(s, 1000)"
   ]
  },
  {
   "cell_type": "code",
   "execution_count": 93,
   "id": "4ce8404c-223e-49e3-a681-61f816cf7c77",
   "metadata": {},
   "outputs": [
    {
     "name": "stdout",
     "output_type": "stream",
     "text": [
      "115 ms ± 6.33 ms per loop (mean ± std. dev. of 7 runs, 10 loops each)\n"
     ]
    }
   ],
   "source": [
    "%%timeit # the current (incorrect implementation) - 50M\n",
    "elttb._aggregate(s, 1000)"
   ]
  },
  {
   "cell_type": "markdown",
   "id": "8f4078f0-cf59-40bf-be6e-37c916be1e03",
   "metadata": {},
   "source": [
    "---"
   ]
  },
  {
   "cell_type": "code",
   "execution_count": 54,
   "id": "6f18e342-ff55-4106-9657-c37fe15d9db7",
   "metadata": {},
   "outputs": [
    {
     "name": "stdout",
     "output_type": "stream",
     "text": [
      "18.1 ms ± 1.34 ms per loop (mean ± std. dev. of 7 runs, 10 loops each)\n"
     ]
    }
   ],
   "source": [
    "%%timeit # the current (incorrect implementation) - 50M\n",
    "elttb._aggregate(s, 1000)"
   ]
  },
  {
   "cell_type": "code",
   "execution_count": 57,
   "id": "289606d9-841b-4208-9b2f-6c381b058ca8",
   "metadata": {},
   "outputs": [
    {
     "name": "stdout",
     "output_type": "stream",
     "text": [
      "106 ms ± 1.51 ms per loop (mean ± std. dev. of 7 runs, 10 loops each)\n"
     ]
    }
   ],
   "source": [
    "%%timeit # the current (incorrect implementation) - 50M\n",
    "elttb._aggregate(s, 1000)"
   ]
  },
  {
   "cell_type": "code",
   "execution_count": 52,
   "id": "6363f91b-e19f-4276-9e9d-5b3fd9e38c26",
   "metadata": {},
   "outputs": [
    {
     "data": {
      "text/plain": [
       "array(['2022-05-19T18:23:50.506970000', '2022-05-19T18:23:50.508200000',\n",
       "       '2022-05-19T18:23:50.509430000', ...,\n",
       "       '2022-05-19T20:06:20.503280000', '2022-05-19T20:06:20.504510000',\n",
       "       '2022-05-19T20:06:20.505740000'], dtype='datetime64[ns]')"
      ]
     },
     "execution_count": 52,
     "metadata": {},
     "output_type": "execute_result"
    }
   ],
   "source": [
    "s_i"
   ]
  },
  {
   "cell_type": "code",
   "execution_count": null,
   "id": "0338f553-660d-4ad6-918c-266fa9496772",
   "metadata": {},
   "outputs": [],
   "source": [
    "s_i0 = s_i[0].astype(np.int64)\n",
    "idx, data = lttbc.downsample(\n",
    "    (s_i.astype(np.int64) - s_i0).astype(np.float64), s_v, 1000\n",
    ")\n",
    "idx = pd.to_datetime(idx.astype(int) + s_i0, unit=\"ns\", utc=True).tz_convert(s.index.tz)\n",
    "idx.values"
   ]
  },
  {
   "cell_type": "code",
   "execution_count": 40,
   "id": "21d8a41d-1445-4d55-a282-7be0dcd0666b",
   "metadata": {},
   "outputs": [
    {
     "data": {
      "text/plain": [
       "array([0.000000e+00, 1.000000e+06, 2.000000e+06, ..., 4.999997e+12,\n",
       "       4.999998e+12, 4.999999e+12])"
      ]
     },
     "execution_count": 40,
     "metadata": {},
     "output_type": "execute_result"
    }
   ],
   "source": [
    "(s_i.astype(np.int64) - s_i0).astype(float)"
   ]
  },
  {
   "cell_type": "code",
   "execution_count": 30,
   "id": "8320d663-a138-4714-88ca-6040ccca8f08",
   "metadata": {},
   "outputs": [
    {
     "data": {
      "text/plain": [
       "DatetimeIndex(['1969-12-31 23:59:59.517391344',\n",
       "               '1969-12-31 23:59:57.370424048',\n",
       "               '1970-01-01 00:00:01.664424048',\n",
       "               '1969-12-31 23:59:57.370489456',\n",
       "               '1970-01-01 00:00:01.664489456',\n",
       "               '1969-12-31 23:59:57.370587568',\n",
       "               '1970-01-01 00:00:01.664587568',\n",
       "               '1969-12-31 23:59:57.370652976',\n",
       "               '1970-01-01 00:00:01.664652976',\n",
       "               '1969-12-31 23:59:57.370718384',\n",
       "               ...\n",
       "               '1970-01-01 00:00:01.664131760',\n",
       "               '1969-12-31 23:59:57.370197168',\n",
       "               '1970-01-01 00:00:01.664197168',\n",
       "               '1969-12-31 23:59:57.370262576',\n",
       "               '1970-01-01 00:00:01.664262576',\n",
       "               '1969-12-31 23:59:57.370327984',\n",
       "               '1970-01-01 00:00:01.664360688',\n",
       "               '1969-12-31 23:59:57.370426096',\n",
       "               '1970-01-01 00:00:01.664426096',\n",
       "               '1970-01-01 00:00:00.174458800'],\n",
       "              dtype='datetime64[ns]', length=1000, freq=None)"
      ]
     },
     "execution_count": 30,
     "metadata": {},
     "output_type": "execute_result"
    }
   ],
   "source": [
    "idx"
   ]
  },
  {
   "cell_type": "code",
   "execution_count": 20,
   "id": "9e98adfb-353e-45fe-b30b-b33c86e4c706",
   "metadata": {},
   "outputs": [
    {
     "data": {
      "text/plain": [
       "2022-05-19 18:16:44.181464064           0\n",
       "2022-05-19 18:16:47.180464128        2999\n",
       "2022-05-19 18:17:36.181464064       52000\n",
       "2022-05-19 18:19:14.181464064      150000\n",
       "2022-05-19 18:20:05.180464128      200999\n",
       "                                   ...   \n",
       "2022-05-20 08:06:42.181464064    49798000\n",
       "2022-05-20 08:07:33.180464128    49848999\n",
       "2022-05-20 08:09:11.180464128    49946999\n",
       "2022-05-20 08:09:12.181464064    49948000\n",
       "2022-05-20 08:10:04.180464128    49999999\n",
       "Name: None, Length: 1000, dtype: int64"
      ]
     },
     "execution_count": 20,
     "metadata": {},
     "output_type": "execute_result"
    }
   ],
   "source": [
    "elttb._aggregate(s, 1000)"
   ]
  },
  {
   "cell_type": "code",
   "execution_count": null,
   "id": "1fb7a326-5a42-41d3-9cab-aa3e860fddb4",
   "metadata": {},
   "outputs": [],
   "source": []
  },
  {
   "cell_type": "code",
   "execution_count": 84,
   "id": "d5d5038e-2c01-4bbe-88a7-6a210bdf4cb0",
   "metadata": {},
   "outputs": [],
   "source": [
    "s_v = s.cat.codes.values if str(s.dtype) == \"category\" else s.values\n",
    "s_i = s.index.values"
   ]
  },
  {
   "cell_type": "code",
   "execution_count": 85,
   "id": "e662f70c-e5f9-417c-bcbf-181cf348139d",
   "metadata": {},
   "outputs": [
    {
     "name": "stdout",
     "output_type": "stream",
     "text": [
      "54.8 ms ± 5.68 ms per loop (mean ± std. dev. of 7 runs, 10 loops each)\n"
     ]
    }
   ],
   "source": [
    "%%timeit\n",
    "s_i0 = int(s_i[0])\n",
    "idx, data = lttbc.downsample(s_i.astype(int) - s_i0, s_v, 1000)\n",
    "idx = pd.to_datetime(\n",
    "    idx.astype(int) + s_i0, unit=\"ns\", utc=True\n",
    ").tz_convert(s.index.tz)"
   ]
  },
  {
   "cell_type": "code",
   "execution_count": 86,
   "id": "34b68e98-1651-4935-9253-bbe633b7e039",
   "metadata": {},
   "outputs": [
    {
     "name": "stdout",
     "output_type": "stream",
     "text": [
      "47.5 ms ± 7.02 ms per loop (mean ± std. dev. of 7 runs, 10 loops each)\n"
     ]
    }
   ],
   "source": [
    "%%timeit\n",
    "idx, data = lttbc.downsample(s_i.astype(int), s_v, 1000)\n",
    "idx = pd.to_datetime(idx, unit=\"ns\", utc=True).tz_convert(s.index.tz)"
   ]
  },
  {
   "cell_type": "markdown",
   "id": "a32f9901-f45d-44eb-a28b-a10084c35f3c",
   "metadata": {},
   "source": [
    "TODO here tests for plotly resampler"
   ]
  },
  {
   "cell_type": "code",
   "execution_count": 65,
   "id": "f991f4d2-778f-4de9-8f7e-c15a8fc1672b",
   "metadata": {},
   "outputs": [
    {
     "data": {
      "text/plain": [
       "array([1629787951550000000, 1629787951650000000, 1629787951750000000, ...,\n",
       "       1629795689350000000, 1629795689450000000, 1629795689550000000])"
      ]
     },
     "execution_count": 65,
     "metadata": {},
     "output_type": "execute_result"
    }
   ],
   "source": [
    "s_if = s_i.astype(int) # casting='safe')\n",
    "(s_if - s_if[0]).astype(np.float64).astype(int) + s_if[0]"
   ]
  },
  {
   "cell_type": "code",
   "execution_count": null,
   "id": "37ab553e-b164-4db3-8d45-368005a46fa9",
   "metadata": {},
   "outputs": [],
   "source": []
  },
  {
   "cell_type": "code",
   "execution_count": 41,
   "id": "ba116469-77f5-4af1-b1a0-8cd87c5859bd",
   "metadata": {},
   "outputs": [],
   "source": [
    "import lttbc"
   ]
  },
  {
   "cell_type": "code",
   "execution_count": 47,
   "id": "37cf3fb0-8e5a-474b-bc3f-f955eb6a111e",
   "metadata": {},
   "outputs": [],
   "source": [
    "idx, data = lttbc.downsample(s_i, df_scl[\"SCL\"].values, 1000)"
   ]
  },
  {
   "cell_type": "code",
   "execution_count": 48,
   "id": "6d0c4480-533b-4601-b063-70e9d15b576f",
   "metadata": {},
   "outputs": [
    {
     "data": {
      "text/plain": [
       "DatetimeIndex(['2021-08-24 06:52:31.550000128',\n",
       "               '2021-08-24 06:52:34.249999872',\n",
       "               '2021-08-24 06:52:39.350000128',\n",
       "               '2021-08-24 06:52:47.150000128',\n",
       "               '2021-08-24 06:53:02.550000128',\n",
       "               '2021-08-24 06:53:02.649999872',\n",
       "               '2021-08-24 06:53:10.750000128',\n",
       "               '2021-08-24 06:53:18.150000128',\n",
       "               '2021-08-24 06:53:30.350000128',\n",
       "               '2021-08-24 06:53:33.649999872',\n",
       "               ...\n",
       "               '2021-08-24 09:00:19.750000128',\n",
       "               '2021-08-24 09:00:27.449999872',\n",
       "               '2021-08-24 09:00:35.249999872',\n",
       "               '2021-08-24 09:00:42.950000128',\n",
       "               '2021-08-24 09:00:50.750000128',\n",
       "               '2021-08-24 09:00:58.449999872',\n",
       "               '2021-08-24 09:01:06.249999872',\n",
       "               '2021-08-24 09:01:13.950000128',\n",
       "               '2021-08-24 09:01:21.750000128',\n",
       "               '2021-08-24 09:01:29.550000128'],\n",
       "              dtype='datetime64[ns]', length=1000, freq=None)"
      ]
     },
     "execution_count": 48,
     "metadata": {},
     "output_type": "execute_result"
    }
   ],
   "source": [
    "pd.to_datetime(idx.astype(int))"
   ]
  },
  {
   "cell_type": "code",
   "execution_count": 36,
   "id": "4a16897a-90db-4458-9442-eab68e2a4012",
   "metadata": {},
   "outputs": [
    {
     "data": {
      "text/plain": [
       "numpy.int64"
      ]
     },
     "execution_count": 36,
     "metadata": {},
     "output_type": "execute_result"
    }
   ],
   "source": [
    "type(s_i[0])"
   ]
  },
  {
   "cell_type": "code",
   "execution_count": 34,
   "id": "2f12dd52-8cea-4d8f-a51b-f3415b7e5b00",
   "metadata": {},
   "outputs": [
    {
     "data": {
      "text/plain": [
       "numpy.float64"
      ]
     },
     "execution_count": 34,
     "metadata": {},
     "output_type": "execute_result"
    }
   ],
   "source": [
    "type(idx[0])"
   ]
  },
  {
   "cell_type": "code",
   "execution_count": 28,
   "id": "7c5087a1-7a1a-444e-9156-9ca6a7274807",
   "metadata": {},
   "outputs": [
    {
     "name": "stdout",
     "output_type": "stream",
     "text": [
      "156 ms ± 72.6 ms per loop (mean ± std. dev. of 7 runs, 1 loop each)\n"
     ]
    }
   ],
   "source": [
    "%%timeit\n",
    "pd.RangeIndex(start=0, stop=50_000_000).values"
   ]
  },
  {
   "cell_type": "code",
   "execution_count": 25,
   "id": "ba1f2add-3472-4097-a19c-4bfec7afce2f",
   "metadata": {},
   "outputs": [
    {
     "data": {
      "text/plain": [
       "DatetimeIndex(['2021-08-24 08:52:31.650000+02:00',\n",
       "               '2021-08-24 08:52:31.750000+02:00',\n",
       "               '2021-08-24 08:52:31.850000+02:00'],\n",
       "              dtype='datetime64[ns, Europe/Brussels]', name='timestamp', freq=None)"
      ]
     },
     "execution_count": 25,
     "metadata": {},
     "output_type": "execute_result"
    }
   ],
   "source": [
    "df_scl.index[[1, 2, 3]]"
   ]
  },
  {
   "cell_type": "code",
   "execution_count": 17,
   "id": "cfd7bf2e-d731-4a23-b4c0-309ca333ad46",
   "metadata": {},
   "outputs": [
    {
     "data": {
      "text/plain": [
       "array([1629787951550000000, 1629787951650000000, 1629787951750000000, ...,\n",
       "       1629795689350000000, 1629795689450000000, 1629795689550000000])"
      ]
     },
     "execution_count": 17,
     "metadata": {},
     "output_type": "execute_result"
    }
   ],
   "source": [
    "pd.to_datetime(s_i.astype(int)"
   ]
  },
  {
   "cell_type": "code",
   "execution_count": null,
   "id": "9aa7dde3-a490-4396-b554-a68ef57c05f7",
   "metadata": {},
   "outputs": [],
   "source": [
    "fwr = FigureResampler(\n",
    "    # make_subplots(rows=2, cols=1, shared_xaxes=True),\n",
    "    make_subplots(specs=[[{\"secondary_y\": True}]]),\n",
    ")\n",
    "fwr.add_trace(go.Scattergl(name=\"scl\"), hf_x=df_scl.index, hf_y=df_scl[\"SCL\"])\n",
    "fwr.add_trace(\n",
    "    go.Scattergl(name=\"trigger\"),\n",
    "    hf_x=df_scl.index,\n",
    "    hf_y=(df_scl[\"trigger\"] != -9999).astype(int),\n",
    "    downsampler=EfficientLTTB(interleave_gaps=False),\n",
    "    hf_hovertext=df_scl[\"trigger\"],\n",
    "    secondary_y=True,\n",
    ")\n",
    "fwr.update_layout(template=\"plotly_white\", height=500, showlegend=True)\n",
    "fwr.show_dash(mode=\"inline\")"
   ]
  }
 ],
 "metadata": {
  "kernelspec": {
   "display_name": "Python 3.9.6 ('stress_study_lib')",
   "language": "python",
   "name": "python3"
  },
  "language_info": {
   "codemirror_mode": {
    "name": "ipython",
    "version": 3
   },
   "file_extension": ".py",
   "mimetype": "text/x-python",
   "name": "python",
   "nbconvert_exporter": "python",
   "pygments_lexer": "ipython3",
   "version": "3.9.6"
  },
  "vscode": {
   "interpreter": {
    "hash": "97a7ca089fbbf465afa8ae85519f61cb8981dba58e11329058b00ce6573e9481"
   }
  }
 },
 "nbformat": 4,
 "nbformat_minor": 5
}
