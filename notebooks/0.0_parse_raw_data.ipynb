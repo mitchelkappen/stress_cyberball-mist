{
 "cells": [
  {
   "cell_type": "code",
   "execution_count": 2,
   "id": "b7cd9ebb-0980-4638-901c-f9422325703f",
   "metadata": {},
   "outputs": [],
   "source": [
    "import pandas as pd\n",
    "from pathlib import Path\n",
    "from tqdm.auto import tqdm\n",
    "import numpy as np\n",
    "import os"
   ]
  },
  {
   "cell_type": "code",
   "execution_count": 3,
   "id": "c0742536-4ecd-4728-9778-d3817b0a6421",
   "metadata": {},
   "outputs": [],
   "source": [
    "%load_ext autoreload\n",
    "%autoreload 2"
   ]
  },
  {
   "cell_type": "code",
   "execution_count": 4,
   "id": "62b106c8-3ce0-4f03-8506-6553f0265faf",
   "metadata": {},
   "outputs": [
    {
     "name": "stderr",
     "output_type": "stream",
     "text": [
      "'pwd' is not recognized as an internal or external command,\n",
      "operable program or batch file.\n"
     ]
    }
   ],
   "source": [
    "!pwd"
   ]
  },
  {
   "cell_type": "code",
   "execution_count": 5,
   "id": "db532770-7063-4ca8-aecd-0fb904e01fc6",
   "metadata": {},
   "outputs": [],
   "source": [
    "cyberball_raw_dir = Path('Physiological (ECG, EDA, RSP)/')\n",
    "cyberball_interim_dir = Path('interim/')"
   ]
  },
  {
   "cell_type": "code",
   "execution_count": 6,
   "id": "90306d50-a0a6-41ec-9a89-9262b6cbea52",
   "metadata": {},
   "outputs": [
    {
     "data": {
      "application/vnd.jupyter.widget-view+json": {
       "model_id": "798a3f21972743cbb9ba0f15aaeb9f51",
       "version_major": 2,
       "version_minor": 0
      },
      "text/plain": [
       "0it [00:00, ?it/s]"
      ]
     },
     "metadata": {},
     "output_type": "display_data"
    }
   ],
   "source": [
    "for txt in tqdm(list(cyberball_raw_dir.glob(\"*.txt\"))):\n",
    "    # print(txt)\n",
    "    try:\n",
    "        _, _, patient_id, paradigm, signal = txt.name.split(\".\")[0].split(\"_\")\n",
    "        df_sig = pd.read_csv(\n",
    "            txt, skiprows=3, sep=\" \", names=[\"timestamp\", signal, \"trigger\", \"dunno\"]\n",
    "        )\n",
    "        t_start = pd.to_datetime(open(txt).readlines()[1].strip()).tz_localize(\n",
    "            \"Europe/Brussels\"\n",
    "        )\n",
    "        df_sig.timestamp = t_start + pd.to_timedelta(df_sig.timestamp, unit='ms')\n",
    "        df_sig = df_sig.set_index('timestamp').iloc[:, :2]\n",
    "        df_sig[signal] = df_sig[signal].astype(np.float32)\n",
    "        # df_sig[\"trigger\"] = df_sig[\"trigger\"].astype(np.int32)\n",
    "        save_dir = cyberball_interim_dir.joinpath(patient_id)\n",
    "        if not save_dir.is_dir():\n",
    "            os.makedirs(save_dir)\n",
    "        df_sig.to_parquet(save_dir.joinpath(f'{signal}_{paradigm}.parquet'))\n",
    "    except Exception as e:\n",
    "        print(\"[E]\", txt.name, e)\n",
    "    # /1024_ppt_8_cybb_SCL.txt"
   ]
  }
 ],
 "metadata": {
  "kernelspec": {
   "display_name": "Python 3.9.6 ('stress_study_lib')",
   "language": "python",
   "name": "python3"
  },
  "language_info": {
   "codemirror_mode": {
    "name": "ipython",
    "version": 3
   },
   "file_extension": ".py",
   "mimetype": "text/x-python",
   "name": "python",
   "nbconvert_exporter": "python",
   "pygments_lexer": "ipython3",
   "version": "3.9.6"
  },
  "vscode": {
   "interpreter": {
    "hash": "97a7ca089fbbf465afa8ae85519f61cb8981dba58e11329058b00ce6573e9481"
   }
  }
 },
 "nbformat": 4,
 "nbformat_minor": 5
}
