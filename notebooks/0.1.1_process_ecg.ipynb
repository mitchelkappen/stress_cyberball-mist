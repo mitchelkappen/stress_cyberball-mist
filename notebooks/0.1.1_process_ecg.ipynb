{
 "cells": [
  {
   "cell_type": "code",
   "execution_count": 1,
   "metadata": {},
   "outputs": [],
   "source": [
    "%load_ext autoreload\n",
    "%autoreload 2"
   ]
  },
  {
   "cell_type": "code",
   "execution_count": 2,
   "metadata": {},
   "outputs": [],
   "source": [
    "import os\n",
    "import sys \n",
    "sys.path.append('..')\n",
    "\n",
    "from cybb_mist.path_conf import interim_data_dir, processed_data_dir\n",
    "from tqdm.auto import tqdm\n",
    "import pandas as pd \n",
    "from functional import seq\n",
    "from cybb_mist.trigger_mapping import parse_trigger_series\n",
    "from cybb_mist.ecg_processing import process_ecg, ecg_pipeline"
   ]
  },
  {
   "cell_type": "markdown",
   "metadata": {},
   "source": [
    "## Extracting the HR to the interim folder"
   ]
  },
  {
   "cell_type": "code",
   "execution_count": 3,
   "metadata": {},
   "outputs": [
    {
     "data": {
      "application/vnd.jupyter.widget-view+json": {
       "model_id": "4e65ce33168e4c96a4a98eaa87befe34",
       "version_major": 2,
       "version_minor": 0
      },
      "text/plain": [
       "  0%|          | 0/124 [00:00<?, ?it/s]"
      ]
     },
     "metadata": {},
     "output_type": "display_data"
    },
    {
     "name": "stdout",
     "output_type": "stream",
     "text": [
      "/users/jonvdrdo/jonas/data/cyberball/interim/4/ECG_cybb.parquet\n",
      "/users/jonvdrdo/jonas/data/cyberball/interim/4/ECG_mist.parquet\n",
      "/users/jonvdrdo/jonas/data/cyberball/interim/45/ECG_cybb.parquet\n",
      "/users/jonvdrdo/jonas/data/cyberball/interim/45/ECG_mist.parquet\n",
      "/users/jonvdrdo/jonas/data/cyberball/interim/63/ECG_cybb.parquet\n",
      "/users/jonvdrdo/jonas/data/cyberball/interim/17/ECG_cybb.parquet\n",
      "/users/jonvdrdo/jonas/data/cyberball/interim/17/ECG_mist.parquet\n",
      "/users/jonvdrdo/jonas/data/cyberball/interim/54/ECG_cybb.parquet\n",
      "/users/jonvdrdo/jonas/data/cyberball/interim/54/ECG_mist.parquet\n",
      "/users/jonvdrdo/jonas/data/cyberball/interim/69/ECG_cybb.parquet\n",
      "/users/jonvdrdo/jonas/data/cyberball/interim/34/ECG_cybb.parquet\n",
      "/users/jonvdrdo/jonas/data/cyberball/interim/34/ECG_mist.parquet\n",
      "/users/jonvdrdo/jonas/data/cyberball/interim/53/ECG_cybb.parquet\n",
      "/users/jonvdrdo/jonas/data/cyberball/interim/53/ECG_mist.parquet\n",
      "/users/jonvdrdo/jonas/data/cyberball/interim/22/ECG_cybb.parquet\n",
      "/users/jonvdrdo/jonas/data/cyberball/interim/22/ECG_mist.parquet\n",
      "/users/jonvdrdo/jonas/data/cyberball/interim/23/ECG_cybb.parquet\n",
      "/users/jonvdrdo/jonas/data/cyberball/interim/23/ECG_mist.parquet\n",
      "/users/jonvdrdo/jonas/data/cyberball/interim/64/ECG_cybb.parquet\n",
      "/users/jonvdrdo/jonas/data/cyberball/interim/64/ECG_mist.parquet\n",
      "/users/jonvdrdo/jonas/data/cyberball/interim/49/ECG_cybb.parquet\n",
      "/users/jonvdrdo/jonas/data/cyberball/interim/13/ECG_cybb.parquet\n",
      "/users/jonvdrdo/jonas/data/cyberball/interim/13/ECG_mist.parquet\n",
      "/users/jonvdrdo/jonas/data/cyberball/interim/70/ECG_cybb.parquet\n",
      "/users/jonvdrdo/jonas/data/cyberball/interim/70/ECG_mist.parquet\n",
      "/users/jonvdrdo/jonas/data/cyberball/interim/20/ECG_cybb.parquet\n",
      "/users/jonvdrdo/jonas/data/cyberball/interim/42/ECG_cybb.parquet\n",
      "/users/jonvdrdo/jonas/data/cyberball/interim/42/ECG_mist.parquet\n",
      "/users/jonvdrdo/jonas/data/cyberball/interim/48/ECG_cybb.parquet\n",
      "/users/jonvdrdo/jonas/data/cyberball/interim/48/ECG_mist.parquet\n",
      "/users/jonvdrdo/jonas/data/cyberball/interim/11/ECG_cybb.parquet\n",
      "/users/jonvdrdo/jonas/data/cyberball/interim/11/ECG_mist.parquet\n",
      "/users/jonvdrdo/jonas/data/cyberball/interim/37/ECG_cybb.parquet\n",
      "/users/jonvdrdo/jonas/data/cyberball/interim/37/ECG_mist.parquet\n",
      "/users/jonvdrdo/jonas/data/cyberball/interim/8/ECG_cybb.parquet\n",
      "/users/jonvdrdo/jonas/data/cyberball/interim/8/ECG_mist.parquet\n",
      "/users/jonvdrdo/jonas/data/cyberball/interim/66/ECG_mist.parquet\n",
      "/users/jonvdrdo/jonas/data/cyberball/interim/55/ECG_cybb.parquet\n",
      "/users/jonvdrdo/jonas/data/cyberball/interim/55/ECG_mist.parquet\n",
      "/users/jonvdrdo/jonas/data/cyberball/interim/24/ECG_cybb.parquet\n",
      "/users/jonvdrdo/jonas/data/cyberball/interim/24/ECG_mist.parquet\n",
      "/users/jonvdrdo/jonas/data/cyberball/interim/9/ECG_cybb.parquet\n",
      "/users/jonvdrdo/jonas/data/cyberball/interim/9/ECG_mist.parquet\n",
      "/users/jonvdrdo/jonas/data/cyberball/interim/40/ECG_cybb.parquet\n",
      "/users/jonvdrdo/jonas/data/cyberball/interim/40/ECG_mist.parquet\n",
      "/users/jonvdrdo/jonas/data/cyberball/interim/72/ECG_cybb.parquet\n",
      "/users/jonvdrdo/jonas/data/cyberball/interim/72/ECG_mist.parquet\n",
      "/users/jonvdrdo/jonas/data/cyberball/interim/15/ECG_cybb.parquet\n",
      "/users/jonvdrdo/jonas/data/cyberball/interim/15/ECG_mist.parquet\n",
      "/users/jonvdrdo/jonas/data/cyberball/interim/31/ECG_cybb.parquet\n",
      "/users/jonvdrdo/jonas/data/cyberball/interim/31/ECG_mist.parquet\n",
      "/users/jonvdrdo/jonas/data/cyberball/interim/71/ECG_cybb.parquet\n",
      "/users/jonvdrdo/jonas/data/cyberball/interim/71/ECG_mist.parquet\n",
      "/users/jonvdrdo/jonas/data/cyberball/interim/14/ECG_cybb.parquet\n",
      "single positional indexer is out-of-bounds\n",
      "/users/jonvdrdo/jonas/data/cyberball/interim/14/ECG_mist.parquet\n",
      "/users/jonvdrdo/jonas/data/cyberball/interim/33/ECG_cybb.parquet\n",
      "/users/jonvdrdo/jonas/data/cyberball/interim/33/ECG_mist.parquet\n",
      "/users/jonvdrdo/jonas/data/cyberball/interim/35/ECG_cybb.parquet\n",
      "/users/jonvdrdo/jonas/data/cyberball/interim/35/ECG_mist.parquet\n",
      "/users/jonvdrdo/jonas/data/cyberball/interim/56/ECG_cybb.parquet\n",
      "/users/jonvdrdo/jonas/data/cyberball/interim/56/ECG_mist.parquet\n",
      "/users/jonvdrdo/jonas/data/cyberball/interim/10/ECG_cybb.parquet\n",
      "/users/jonvdrdo/jonas/data/cyberball/interim/10/ECG_mist.parquet\n",
      "/users/jonvdrdo/jonas/data/cyberball/interim/39/ECG_cybb.parquet\n",
      "/users/jonvdrdo/jonas/data/cyberball/interim/39/ECG_mist.parquet\n",
      "/users/jonvdrdo/jonas/data/cyberball/interim/46/ECG_cybb.parquet\n",
      "/users/jonvdrdo/jonas/data/cyberball/interim/46/ECG_mist.parquet\n",
      "/users/jonvdrdo/jonas/data/cyberball/interim/6/ECG_cybb.parquet\n",
      "/users/jonvdrdo/jonas/data/cyberball/interim/6/ECG_mist.parquet\n",
      "/users/jonvdrdo/jonas/data/cyberball/interim/32/ECG_cybb.parquet\n",
      "/users/jonvdrdo/jonas/data/cyberball/interim/32/ECG_mist.parquet\n",
      "/users/jonvdrdo/jonas/data/cyberball/interim/41/ECG_cybb.parquet\n",
      "/users/jonvdrdo/jonas/data/cyberball/interim/41/ECG_mist.parquet\n",
      "single positional indexer is out-of-bounds\n",
      "/users/jonvdrdo/jonas/data/cyberball/interim/19/ECG_cybb.parquet\n",
      "/users/jonvdrdo/jonas/data/cyberball/interim/19/ECG_mist.parquet\n",
      "/users/jonvdrdo/jonas/data/cyberball/interim/51/ECG_cybb.parquet\n",
      "/users/jonvdrdo/jonas/data/cyberball/interim/51/ECG_mist (PROBLEM WITH PROGRAM).parquet\n",
      "/users/jonvdrdo/jonas/data/cyberball/interim/59/ECG_cybb.parquet\n",
      "/users/jonvdrdo/jonas/data/cyberball/interim/59/ECG_mist.parquet\n",
      "/users/jonvdrdo/jonas/data/cyberball/interim/27/ECG_cybb.parquet\n",
      "/users/jonvdrdo/jonas/data/cyberball/interim/27/ECG_mist.parquet\n",
      "/users/jonvdrdo/jonas/data/cyberball/interim/73/ECG_cybb.parquet\n",
      "/users/jonvdrdo/jonas/data/cyberball/interim/5/ECG_cybb.parquet\n",
      "/users/jonvdrdo/jonas/data/cyberball/interim/5/ECG_mist.parquet\n",
      "/users/jonvdrdo/jonas/data/cyberball/interim/47/ECG_cybb.parquet\n",
      "/users/jonvdrdo/jonas/data/cyberball/interim/47/ECG_mist.parquet\n",
      "/users/jonvdrdo/jonas/data/cyberball/interim/58/ECG_cybb.parquet\n",
      "/users/jonvdrdo/jonas/data/cyberball/interim/36/ECG_cybb.parquet\n",
      "/users/jonvdrdo/jonas/data/cyberball/interim/36/ECG_mist.parquet\n",
      "/users/jonvdrdo/jonas/data/cyberball/interim/28/ECG_cybb.parquet\n",
      "/users/jonvdrdo/jonas/data/cyberball/interim/28/ECG_mist.parquet\n",
      "/users/jonvdrdo/jonas/data/cyberball/interim/52/ECG_cybb.parquet\n",
      "/users/jonvdrdo/jonas/data/cyberball/interim/52/ECG_mist.parquet\n",
      "/users/jonvdrdo/jonas/data/cyberball/interim/57/ECG_cybb.parquet\n",
      "/users/jonvdrdo/jonas/data/cyberball/interim/57/ECG_mist.parquet\n",
      "/users/jonvdrdo/jonas/data/cyberball/interim/60/ECG_cybb.parquet\n",
      "/users/jonvdrdo/jonas/data/cyberball/interim/60/ECG_mist.parquet\n",
      "/users/jonvdrdo/jonas/data/cyberball/interim/29/ECG_cybb.parquet\n",
      "/users/jonvdrdo/jonas/data/cyberball/interim/38/ECG_cybb.parquet\n",
      "/users/jonvdrdo/jonas/data/cyberball/interim/18/ECG_cybb.parquet\n",
      "/users/jonvdrdo/jonas/data/cyberball/interim/18/ECG_mist.parquet\n",
      "/users/jonvdrdo/jonas/data/cyberball/interim/16/ECG_cybb.parquet\n",
      "/users/jonvdrdo/jonas/data/cyberball/interim/16/ECG_mist.parquet\n",
      "/users/jonvdrdo/jonas/data/cyberball/interim/7/ECG_cybb.parquet\n",
      "/users/jonvdrdo/jonas/data/cyberball/interim/7/ECG_mist.parquet\n",
      "/users/jonvdrdo/jonas/data/cyberball/interim/44/ECG_cybb.parquet\n",
      "/users/jonvdrdo/jonas/data/cyberball/interim/44/ECG_mist.parquet\n",
      "/users/jonvdrdo/jonas/data/cyberball/interim/1/ECG_mist.parquet\n",
      "/users/jonvdrdo/jonas/data/cyberball/interim/2/ECG_cybb.parquet\n",
      "/users/jonvdrdo/jonas/data/cyberball/interim/2/ECG_mist.parquet\n",
      "/users/jonvdrdo/jonas/data/cyberball/interim/61/ECG_cybb.parquet\n",
      "/users/jonvdrdo/jonas/data/cyberball/interim/61/ECG_mist.parquet\n",
      "/users/jonvdrdo/jonas/data/cyberball/interim/30/ECG_cybb.parquet\n",
      "/users/jonvdrdo/jonas/data/cyberball/interim/30/ECG_mist.parquet\n",
      "/users/jonvdrdo/jonas/data/cyberball/interim/25/ECG_cybb.parquet\n",
      "/users/jonvdrdo/jonas/data/cyberball/interim/25/ECG_mist.parquet\n",
      "/users/jonvdrdo/jonas/data/cyberball/interim/43/ECG_cybb.parquet\n",
      "/users/jonvdrdo/jonas/data/cyberball/interim/43/ECG_mist.parquet\n",
      "/users/jonvdrdo/jonas/data/cyberball/interim/12/ECG_cybb.parquet\n",
      "/users/jonvdrdo/jonas/data/cyberball/interim/12/ECG_mist.parquet\n",
      "/users/jonvdrdo/jonas/data/cyberball/interim/21/ECG_cybb.parquet\n",
      "/users/jonvdrdo/jonas/data/cyberball/interim/21/ECG_mist.parquet\n",
      "/users/jonvdrdo/jonas/data/cyberball/interim/62/ECG_cybb.parquet\n",
      "/users/jonvdrdo/jonas/data/cyberball/interim/62/ECG_mist.parquet\n"
     ]
    }
   ],
   "source": [
    "# First, process the aligned EDF files\n",
    "for pqt in tqdm(list(interim_data_dir.rglob(\"*/ECG_*.parquet\"))):\n",
    "    try:\n",
    "        print(pqt)\n",
    "        condition = pqt.name.split('.')[0].split('_')[1]\n",
    "\n",
    "        # Read & process the ECG file\n",
    "        df_ecg = pd.read_parquet(pqt)\n",
    "\n",
    "        df_trigger = parse_trigger_series(\n",
    "            pd.read_parquet(\n",
    "                pqt.parent.joinpath(f\"SCL_{'_'.join(pqt.name.split('_')[1:])}\")\n",
    "            )[\"trigger\"]\n",
    "        )\n",
    "        start, end = df_trigger.t_start.iloc[0], df_trigger.t_start.iloc[-1]\n",
    "        # df_rr = ecg_pipeline.process(df_ecg['ECG'][start:end], return_df=False)\n",
    "        df_rr = process_ecg(df_ecg[\"ECG\"][start:end])\n",
    "\n",
    "        # Save the processed file in feat stat dir\n",
    "        ecg_feat_stat_dir_user = processed_data_dir.joinpath(pqt.parent.name)\n",
    "        if not ecg_feat_stat_dir_user.exists():\n",
    "            os.makedirs(ecg_feat_stat_dir_user)\n",
    "        df_rr.to_parquet(ecg_feat_stat_dir_user.joinpath(f'df_rr_{condition}.parquet'))\n",
    "    except Exception as e:\n",
    "        print(e)\n"
   ]
  },
  {
   "cell_type": "code",
   "execution_count": null,
   "metadata": {},
   "outputs": [],
   "source": [
    "df_rr.iloc[800:900]"
   ]
  },
  {
   "cell_type": "markdown",
   "metadata": {},
   "source": [
    "## Toying with the algo's"
   ]
  },
  {
   "cell_type": "code",
   "execution_count": 20,
   "metadata": {},
   "outputs": [],
   "source": [
    "r_peak_sig_names = (\n",
    "    seq(df_rr)\n",
    "    .filter(lambda x: \"r_peaks\" in x.name.lower() and \"processed\" not in x.name.lower())\n",
    "    .map(lambda x: x.name)\n",
    "    .to_list()\n",
    ")"
   ]
  },
  {
   "cell_type": "code",
   "execution_count": 21,
   "metadata": {},
   "outputs": [],
   "source": [
    "valid_rpeak_s = seq(df_rr).filter(lambda x: x.name in r_peak_sig_names).to_list()"
   ]
  },
  {
   "cell_type": "code",
   "execution_count": 22,
   "metadata": {},
   "outputs": [],
   "source": [
    "from cybb_mist.dataframes import time_based_outer_merge"
   ]
  },
  {
   "cell_type": "code",
   "execution_count": 23,
   "metadata": {},
   "outputs": [],
   "source": [
    "df_m = None\n",
    "for s in valid_rpeak_s:\n",
    "    # s = s.copy()\n",
    "    # s.loc[:] = 1\n",
    "    # s_idx = s.index.to_series().rename(s.name)\n",
    "    if len(s) == 0:\n",
    "        continue\n",
    "\n",
    "    if df_m is None:\n",
    "        df_m = s.to_frame()\n",
    "    else:\n",
    "        df_m = time_based_outer_merge(\n",
    "            df_m, s, tolerance=pd.Timedelta(f\"{int(1000 / 200 * 5)}ms\")\n",
    "        )\n",
    "df_m[\"r_peak_agreement\"] = df_m.notna().sum(axis=1) / len(valid_rpeak_s)"
   ]
  },
  {
   "cell_type": "code",
   "execution_count": 24,
   "metadata": {},
   "outputs": [
    {
     "data": {
      "text/plain": [
       "<AxesSubplot:xlabel='timestamp'>"
      ]
     },
     "execution_count": 24,
     "metadata": {},
     "output_type": "execute_result"
    },
    {
     "data": {
      "image/png": "[encoded data removed]",
      "text/plain": [
       "<Figure size 432x288 with 1 Axes>"
      ]
     },
     "metadata": {
      "needs_background": "light"
     },
     "output_type": "display_data"
    }
   ],
   "source": [
    "df_m['r_peak_agreement'].plot()"
   ]
  },
  {
   "cell_type": "code",
   "execution_count": 10,
   "metadata": {},
   "outputs": [
    {
     "data": {
      "text/html": [
       "<div>\n",
       "<style scoped>\n",
       "    .dataframe tbody tr th:only-of-type {\n",
       "        vertical-align: middle;\n",
       "    }\n",
       "\n",
       "    .dataframe tbody tr th {\n",
       "        vertical-align: top;\n",
       "    }\n",
       "\n",
       "    .dataframe thead th {\n",
       "        text-align: right;\n",
       "    }\n",
       "</style>\n",
       "<table border=\"1\" class=\"dataframe\">\n",
       "  <thead>\n",
       "    <tr style=\"text-align: right;\">\n",
       "      <th></th>\n",
       "      <th>ECG_R_Peaks_ECG_neurokit</th>\n",
       "      <th>ECG_R_Peaks_ECG_cleaned_biosppy_martinez</th>\n",
       "      <th>ECG_R_Peaks_ECG_cleaned_biosppy_neurokit</th>\n",
       "      <th>ECG_R_Peaks_ECG_scipy_200Hz_cleaned_biosppy_neurokit</th>\n",
       "      <th>ECG_R_Peaks_ECG_scipy_500Hz_martinez</th>\n",
       "      <th>ECG_R_Peaks_ECG_scipy_500Hz_cleaned_biosppy_martinez</th>\n",
       "      <th>r_peak_agreement</th>\n",
       "    </tr>\n",
       "    <tr>\n",
       "      <th>timestamp</th>\n",
       "      <th></th>\n",
       "      <th></th>\n",
       "      <th></th>\n",
       "      <th></th>\n",
       "      <th></th>\n",
       "      <th></th>\n",
       "      <th></th>\n",
       "    </tr>\n",
       "  </thead>\n",
       "  <tbody>\n",
       "    <tr>\n",
       "      <th>2021-03-11 13:06:10.759000+01:00</th>\n",
       "      <td>NaN</td>\n",
       "      <td>NaN</td>\n",
       "      <td>0.002003</td>\n",
       "      <td>0.001954</td>\n",
       "      <td>NaN</td>\n",
       "      <td>NaN</td>\n",
       "      <td>0.333333</td>\n",
       "    </tr>\n",
       "    <tr>\n",
       "      <th>2021-03-11 13:06:16.776000+01:00</th>\n",
       "      <td>NaN</td>\n",
       "      <td>NaN</td>\n",
       "      <td>NaN</td>\n",
       "      <td>0.001776</td>\n",
       "      <td>NaN</td>\n",
       "      <td>NaN</td>\n",
       "      <td>0.166667</td>\n",
       "    </tr>\n",
       "    <tr>\n",
       "      <th>2021-03-11 13:06:16.807000+01:00</th>\n",
       "      <td>NaN</td>\n",
       "      <td>NaN</td>\n",
       "      <td>0.002094</td>\n",
       "      <td>NaN</td>\n",
       "      <td>NaN</td>\n",
       "      <td>NaN</td>\n",
       "      <td>0.166667</td>\n",
       "    </tr>\n",
       "    <tr>\n",
       "      <th>2021-03-11 13:06:20.644000+01:00</th>\n",
       "      <td>NaN</td>\n",
       "      <td>NaN</td>\n",
       "      <td>0.001896</td>\n",
       "      <td>0.001839</td>\n",
       "      <td>NaN</td>\n",
       "      <td>NaN</td>\n",
       "      <td>0.333333</td>\n",
       "    </tr>\n",
       "    <tr>\n",
       "      <th>2021-03-11 13:06:26.850000+01:00</th>\n",
       "      <td>NaN</td>\n",
       "      <td>NaN</td>\n",
       "      <td>0.001818</td>\n",
       "      <td>0.001790</td>\n",
       "      <td>NaN</td>\n",
       "      <td>NaN</td>\n",
       "      <td>0.333333</td>\n",
       "    </tr>\n",
       "    <tr>\n",
       "      <th>...</th>\n",
       "      <td>...</td>\n",
       "      <td>...</td>\n",
       "      <td>...</td>\n",
       "      <td>...</td>\n",
       "      <td>...</td>\n",
       "      <td>...</td>\n",
       "      <td>...</td>\n",
       "    </tr>\n",
       "    <tr>\n",
       "      <th>2021-03-11 14:45:14.786000+01:00</th>\n",
       "      <td>NaN</td>\n",
       "      <td>NaN</td>\n",
       "      <td>0.001982</td>\n",
       "      <td>NaN</td>\n",
       "      <td>NaN</td>\n",
       "      <td>NaN</td>\n",
       "      <td>0.166667</td>\n",
       "    </tr>\n",
       "    <tr>\n",
       "      <th>2021-03-11 14:45:19.058000+01:00</th>\n",
       "      <td>NaN</td>\n",
       "      <td>NaN</td>\n",
       "      <td>0.001891</td>\n",
       "      <td>0.001875</td>\n",
       "      <td>NaN</td>\n",
       "      <td>NaN</td>\n",
       "      <td>0.333333</td>\n",
       "    </tr>\n",
       "    <tr>\n",
       "      <th>2021-03-11 14:45:28.164000+01:00</th>\n",
       "      <td>NaN</td>\n",
       "      <td>NaN</td>\n",
       "      <td>0.002091</td>\n",
       "      <td>0.002043</td>\n",
       "      <td>NaN</td>\n",
       "      <td>NaN</td>\n",
       "      <td>0.333333</td>\n",
       "    </tr>\n",
       "    <tr>\n",
       "      <th>2021-03-11 14:45:44.131000+01:00</th>\n",
       "      <td>NaN</td>\n",
       "      <td>NaN</td>\n",
       "      <td>0.001779</td>\n",
       "      <td>NaN</td>\n",
       "      <td>NaN</td>\n",
       "      <td>NaN</td>\n",
       "      <td>0.166667</td>\n",
       "    </tr>\n",
       "    <tr>\n",
       "      <th>2021-03-11 14:45:44.830000+01:00</th>\n",
       "      <td>NaN</td>\n",
       "      <td>NaN</td>\n",
       "      <td>0.001760</td>\n",
       "      <td>NaN</td>\n",
       "      <td>NaN</td>\n",
       "      <td>NaN</td>\n",
       "      <td>0.166667</td>\n",
       "    </tr>\n",
       "  </tbody>\n",
       "</table>\n",
       "<p>5623 rows × 7 columns</p>\n",
       "</div>"
      ],
      "text/plain": [
       "                                  ECG_R_Peaks_ECG_neurokit  \\\n",
       "timestamp                                                    \n",
       "2021-03-11 13:06:10.759000+01:00                       NaN   \n",
       "2021-03-11 13:06:16.776000+01:00                       NaN   \n",
       "2021-03-11 13:06:16.807000+01:00                       NaN   \n",
       "2021-03-11 13:06:20.644000+01:00                       NaN   \n",
       "2021-03-11 13:06:26.850000+01:00                       NaN   \n",
       "...                                                    ...   \n",
       "2021-03-11 14:45:14.786000+01:00                       NaN   \n",
       "2021-03-11 14:45:19.058000+01:00                       NaN   \n",
       "2021-03-11 14:45:28.164000+01:00                       NaN   \n",
       "2021-03-11 14:45:44.131000+01:00                       NaN   \n",
       "2021-03-11 14:45:44.830000+01:00                       NaN   \n",
       "\n",
       "                                  ECG_R_Peaks_ECG_cleaned_biosppy_martinez  \\\n",
       "timestamp                                                                    \n",
       "2021-03-11 13:06:10.759000+01:00                                       NaN   \n",
       "2021-03-11 13:06:16.776000+01:00                                       NaN   \n",
       "2021-03-11 13:06:16.807000+01:00                                       NaN   \n",
       "2021-03-11 13:06:20.644000+01:00                                       NaN   \n",
       "2021-03-11 13:06:26.850000+01:00                                       NaN   \n",
       "...                                                                    ...   \n",
       "2021-03-11 14:45:14.786000+01:00                                       NaN   \n",
       "2021-03-11 14:45:19.058000+01:00                                       NaN   \n",
       "2021-03-11 14:45:28.164000+01:00                                       NaN   \n",
       "2021-03-11 14:45:44.131000+01:00                                       NaN   \n",
       "2021-03-11 14:45:44.830000+01:00                                       NaN   \n",
       "\n",
       "                                  ECG_R_Peaks_ECG_cleaned_biosppy_neurokit  \\\n",
       "timestamp                                                                    \n",
       "2021-03-11 13:06:10.759000+01:00                                  0.002003   \n",
       "2021-03-11 13:06:16.776000+01:00                                       NaN   \n",
       "2021-03-11 13:06:16.807000+01:00                                  0.002094   \n",
       "2021-03-11 13:06:20.644000+01:00                                  0.001896   \n",
       "2021-03-11 13:06:26.850000+01:00                                  0.001818   \n",
       "...                                                                    ...   \n",
       "2021-03-11 14:45:14.786000+01:00                                  0.001982   \n",
       "2021-03-11 14:45:19.058000+01:00                                  0.001891   \n",
       "2021-03-11 14:45:28.164000+01:00                                  0.002091   \n",
       "2021-03-11 14:45:44.131000+01:00                                  0.001779   \n",
       "2021-03-11 14:45:44.830000+01:00                                  0.001760   \n",
       "\n",
       "                                  ECG_R_Peaks_ECG_scipy_200Hz_cleaned_biosppy_neurokit  \\\n",
       "timestamp                                                                                \n",
       "2021-03-11 13:06:10.759000+01:00                                           0.001954      \n",
       "2021-03-11 13:06:16.776000+01:00                                           0.001776      \n",
       "2021-03-11 13:06:16.807000+01:00                                                NaN      \n",
       "2021-03-11 13:06:20.644000+01:00                                           0.001839      \n",
       "2021-03-11 13:06:26.850000+01:00                                           0.001790      \n",
       "...                                                                             ...      \n",
       "2021-03-11 14:45:14.786000+01:00                                                NaN      \n",
       "2021-03-11 14:45:19.058000+01:00                                           0.001875      \n",
       "2021-03-11 14:45:28.164000+01:00                                           0.002043      \n",
       "2021-03-11 14:45:44.131000+01:00                                                NaN      \n",
       "2021-03-11 14:45:44.830000+01:00                                                NaN      \n",
       "\n",
       "                                  ECG_R_Peaks_ECG_scipy_500Hz_martinez  \\\n",
       "timestamp                                                                \n",
       "2021-03-11 13:06:10.759000+01:00                                   NaN   \n",
       "2021-03-11 13:06:16.776000+01:00                                   NaN   \n",
       "2021-03-11 13:06:16.807000+01:00                                   NaN   \n",
       "2021-03-11 13:06:20.644000+01:00                                   NaN   \n",
       "2021-03-11 13:06:26.850000+01:00                                   NaN   \n",
       "...                                                                ...   \n",
       "2021-03-11 14:45:14.786000+01:00                                   NaN   \n",
       "2021-03-11 14:45:19.058000+01:00                                   NaN   \n",
       "2021-03-11 14:45:28.164000+01:00                                   NaN   \n",
       "2021-03-11 14:45:44.131000+01:00                                   NaN   \n",
       "2021-03-11 14:45:44.830000+01:00                                   NaN   \n",
       "\n",
       "                                  ECG_R_Peaks_ECG_scipy_500Hz_cleaned_biosppy_martinez  \\\n",
       "timestamp                                                                                \n",
       "2021-03-11 13:06:10.759000+01:00                                                NaN      \n",
       "2021-03-11 13:06:16.776000+01:00                                                NaN      \n",
       "2021-03-11 13:06:16.807000+01:00                                                NaN      \n",
       "2021-03-11 13:06:20.644000+01:00                                                NaN      \n",
       "2021-03-11 13:06:26.850000+01:00                                                NaN      \n",
       "...                                                                             ...      \n",
       "2021-03-11 14:45:14.786000+01:00                                                NaN      \n",
       "2021-03-11 14:45:19.058000+01:00                                                NaN      \n",
       "2021-03-11 14:45:28.164000+01:00                                                NaN      \n",
       "2021-03-11 14:45:44.131000+01:00                                                NaN      \n",
       "2021-03-11 14:45:44.830000+01:00                                                NaN      \n",
       "\n",
       "                                  r_peak_agreement  \n",
       "timestamp                                           \n",
       "2021-03-11 13:06:10.759000+01:00          0.333333  \n",
       "2021-03-11 13:06:16.776000+01:00          0.166667  \n",
       "2021-03-11 13:06:16.807000+01:00          0.166667  \n",
       "2021-03-11 13:06:20.644000+01:00          0.333333  \n",
       "2021-03-11 13:06:26.850000+01:00          0.333333  \n",
       "...                                            ...  \n",
       "2021-03-11 14:45:14.786000+01:00          0.166667  \n",
       "2021-03-11 14:45:19.058000+01:00          0.333333  \n",
       "2021-03-11 14:45:28.164000+01:00          0.333333  \n",
       "2021-03-11 14:45:44.131000+01:00          0.166667  \n",
       "2021-03-11 14:45:44.830000+01:00          0.166667  \n",
       "\n",
       "[5623 rows x 7 columns]"
      ]
     },
     "execution_count": 10,
     "metadata": {},
     "output_type": "execute_result"
    }
   ],
   "source": [
    "df_m"
   ]
  },
  {
   "cell_type": "code",
   "execution_count": 12,
   "metadata": {},
   "outputs": [
    {
     "data": {
      "text/plain": [
       "timestamp\n",
       "2021-03-11 13:06:10.758000+01:00    0.1\n",
       "2021-03-11 13:06:16.806000+01:00    0.1\n",
       "2021-03-11 13:06:20.644000+01:00    0.1\n",
       "2021-03-11 13:06:26.850000+01:00    0.1\n",
       "2021-03-11 13:06:36.442000+01:00    0.1\n",
       "                                   ... \n",
       "2021-03-11 14:45:14.786000+01:00    0.1\n",
       "2021-03-11 14:45:19.056000+01:00    0.1\n",
       "2021-03-11 14:45:28.164000+01:00    0.1\n",
       "2021-03-11 14:45:44.130000+01:00    0.1\n",
       "2021-03-11 14:45:44.830000+01:00    0.1\n",
       "Name: r_peak_agreement, Length: 5528, dtype: float64"
      ]
     },
     "execution_count": 12,
     "metadata": {},
     "output_type": "execute_result"
    }
   ],
   "source": [
    "df_m['r_peak_agreement']"
   ]
  },
  {
   "cell_type": "code",
   "execution_count": null,
   "metadata": {},
   "outputs": [],
   "source": [
    "df_m[\"r_peak_agreement\"].shape"
   ]
  },
  {
   "cell_type": "code",
   "execution_count": null,
   "metadata": {},
   "outputs": [],
   "source": [
    "seq(df_rr).filter(lambda x: 'ECG_R_Peaks_processed' == x.name).to_list()[0]"
   ]
  },
  {
   "cell_type": "code",
   "execution_count": null,
   "metadata": {},
   "outputs": [],
   "source": [
    "df_m['r_peak_agreement']"
   ]
  },
  {
   "cell_type": "code",
   "execution_count": null,
   "metadata": {},
   "outputs": [],
   "source": [
    "seq(df_rr).filter(lambda x: 'r_peak_agreement' == x.name).to_list()[0]"
   ]
  },
  {
   "cell_type": "code",
   "execution_count": null,
   "metadata": {},
   "outputs": [],
   "source": [
    "df_m"
   ]
  },
  {
   "cell_type": "code",
   "execution_count": null,
   "metadata": {},
   "outputs": [],
   "source": [
    "import plotly.graph_objects as go\n",
    "from plotly.subplots import make_subplots"
   ]
  },
  {
   "cell_type": "code",
   "execution_count": null,
   "metadata": {},
   "outputs": [],
   "source": [
    "import plotly.graph_objects as go\n",
    "from plotly.subplots import make_subplots"
   ]
  },
  {
   "cell_type": "code",
   "execution_count": null,
   "metadata": {},
   "outputs": [],
   "source": [
    "fig = go.Figure(make_subplots(rows=df_rr.shape[1], shared_xaxes=True))\n",
    "for i, c in enumerate(df_rr.columns, 1):\n",
    "    fig.add_trace(go.Scattergl(x=df_rr.index, y=df_rr[c], name=c), row=i, col=1)\n",
    "fig"
   ]
  },
  {
   "cell_type": "code",
   "execution_count": null,
   "metadata": {},
   "outputs": [],
   "source": [
    "df_rr[['ECG', 'r_peak_agreement', 'ECG_R_Peaks_processed']].info()"
   ]
  },
  {
   "cell_type": "code",
   "execution_count": null,
   "metadata": {},
   "outputs": [],
   "source": [
    "df_rr.columns"
   ]
  }
 ],
 "metadata": {
  "interpreter": {
   "hash": "c2414adab46b34d05802c7092925a7e8906b95b42fbc9726df7147cbc4a43a47"
  },
  "kernelspec": {
   "display_name": "Python 3 (ipykernel)",
   "language": "python",
   "name": "python3"
  },
  "language_info": {
   "codemirror_mode": {
    "name": "ipython",
    "version": 3
   },
   "file_extension": ".py",
   "mimetype": "text/x-python",
   "name": "python",
   "nbconvert_exporter": "python",
   "pygments_lexer": "ipython3",
   "version": "3.9.6"
  }
 },
 "nbformat": 4,
 "nbformat_minor": 4
}
