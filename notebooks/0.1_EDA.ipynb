{
 "cells": [
  {
   "cell_type": "code",
   "execution_count": 1,
   "id": "5b28479f-8d39-45d0-a8e3-d6d3cef99ac9",
   "metadata": {},
   "outputs": [],
   "source": [
    "# plotly_resampler --version"
   ]
  },
  {
   "cell_type": "code",
   "execution_count": 2,
   "id": "48f5197e",
   "metadata": {},
   "outputs": [],
   "source": [
    "%load_ext autoreload\n",
    "%autoreload 2"
   ]
  },
  {
   "cell_type": "code",
   "execution_count": 3,
   "id": "49d2924e-3a78-4ac3-86cb-a9ce230038bc",
   "metadata": {},
   "outputs": [],
   "source": [
    "from plotly_resampler import FigureWidgetResampler, FigureResampler, EfficientLTTB\n",
    "import plotly.graph_objects as go\n",
    "from plotly.subplots import make_subplots\n",
    "\n",
    "from pathlib import Path\n",
    "import pandas as pd\n",
    "import numpy as np"
   ]
  },
  {
   "cell_type": "code",
   "execution_count": 4,
   "id": "a9b2f8a4-cff8-4115-8db2-ebf881bf9256",
   "metadata": {},
   "outputs": [],
   "source": [
    "import sys\n",
    "sys.path.append('..')"
   ]
  },
  {
   "cell_type": "code",
   "execution_count": 5,
   "id": "8d5acc92",
   "metadata": {},
   "outputs": [],
   "source": [
    "from cybb_mist.path_conf import interim_data_dir\n",
    "from cybb_mist.trigger_mapping import trigger_mapping, parse_trigger_series, trigger_color_mapping"
   ]
  },
  {
   "cell_type": "code",
   "execution_count": 6,
   "id": "075c878b-1cc7-41ee-b7dd-312be97aeedd",
   "metadata": {},
   "outputs": [],
   "source": [
    "patient_id = '5'\n",
    "condition = 'mist'\n",
    "\n",
    "df_scl = pd.read_parquet(interim_data_dir.joinpath(patient_id, f\"SCL_{condition}.parquet\"))\n",
    "df_ecg = pd.read_parquet(interim_data_dir.joinpath(patient_id, f\"ECG_{condition}.parquet\"))"
   ]
  },
  {
   "cell_type": "code",
   "execution_count": 7,
   "id": "42c8b842-2371-4afa-a0c6-53230579437d",
   "metadata": {},
   "outputs": [
    {
     "data": {
      "application/vnd.jupyter.widget-view+json": {
       "model_id": "d3dce8cef45c44cc93e4609582bf02b0",
       "version_major": 2,
       "version_minor": 0
      },
      "text/plain": [
       "FigureWidgetResampler({\n",
       "    'data': [{'name': '<b style=\"color:sandybrown\">[R]</b> scl <i style=\"color:#fc9944…"
      ]
     },
     "metadata": {},
     "output_type": "display_data"
    }
   ],
   "source": [
    "fwr = FigureWidgetResampler(\n",
    "    make_subplots(\n",
    "        rows=2,\n",
    "        cols=1,\n",
    "        shared_xaxes=True,\n",
    "        specs=[[{\"secondary_y\": True}], [{\"secondary_y\": True}]],\n",
    "    )\n",
    ")\n",
    "fwr.add_trace(go.Scattergl(name=\"scl\"), hf_x=df_scl.index, hf_y=df_scl[\"SCL\"])\n",
    "fwr.add_trace(\n",
    "    go.Scattergl(name=\"trigger\"),\n",
    "    hf_x=df_scl.index,\n",
    "    hf_y=(df_scl[\"trigger\"] != -9999).astype(int),\n",
    "    downsampler=EfficientLTTB(interleave_gaps=False),\n",
    "    # hf_hovertext=df_scl[\"trigger\"],\n",
    "    secondary_y=True,\n",
    ")\n",
    "\n",
    "fwr.add_trace(\n",
    "    go.Scattergl(name=\"ECG\"), hf_x=df_ecg.index, hf_y=df_ecg[\"ECG\"], row=2, col=1\n",
    ")\n",
    "\n",
    "fwr.update_layout(template=\"plotly_white\", height=500, showlegend=True)\n",
    "fwr"
   ]
  },
  {
   "cell_type": "code",
   "execution_count": 12,
   "id": "fd06a453-f140-43ca-ad03-a16b33006078",
   "metadata": {},
   "outputs": [
    {
     "data": {
      "text/plain": [
       "Series([], Name: trigger, dtype: int64)"
      ]
     },
     "execution_count": 12,
     "metadata": {},
     "output_type": "execute_result"
    }
   ],
   "source": [
    "df_ecg.trigger.value_counts()"
   ]
  },
  {
   "cell_type": "code",
   "execution_count": 20,
   "id": "117a8e81-0cb0-4262-8436-140f17c88e96",
   "metadata": {},
   "outputs": [
    {
     "data": {
      "text/plain": [
       "2"
      ]
     },
     "execution_count": 20,
     "metadata": {},
     "output_type": "execute_result"
    }
   ],
   "source": [
    "[[{\"secondary_y\": True}], [{}]]"
   ]
  },
  {
   "cell_type": "code",
   "execution_count": null,
   "id": "67f10657-9196-4a91-aeb4-43c4118b39b1",
   "metadata": {},
   "outputs": [],
   "source": [
    "marker_mapping = {\n",
    "    # Cyberball\n",
    "    \"cybb\": {\n",
    "        1: \"Introduction start\",\n",
    "        10: \"Start rest baseline (eyes closed)\",\n",
    "        11: \"End rest baseline (eyes closed)\",\n",
    "        12: \"Start rest baseline(eyes open)\",\n",
    "        13: \"End rest baseline (eyes open)\",\n",
    "        5: \"Start cyberball control\",\n",
    "        6: \"End cyberball control\",\n",
    "        20: \"Start rest control (eyes closed)\",\n",
    "        21: \"Start rest control (eyes closed)\",\n",
    "        22: \"Start rest control (eyes open)\",\n",
    "        23: \"End rest control (eyes open)\",\n",
    "        15: \"Start cyberball stress\",\n",
    "        16: \"End cyberball stress\",\n",
    "        30: \"Start rest stress (eyes closed)\",\n",
    "        31: \"Start rest stress (eyes closed)\",\n",
    "        32: \"Start rest stress (eyes open)\",\n",
    "        33: \"End rest stress (eyes open)\",\n",
    "        2: \"end\"\n",
    "    },\n",
    "    # Mist\n",
    "    \"mist\": {\n",
    "        51: \"Introduction start\",\n",
    "        60: \"Start rest baseline (eyes closed)\",\n",
    "        61: \"End rest baseline (eyes closed)\",\n",
    "        62: \"Start rest baseline(eyes open)\",\n",
    "        63: \"End rest baseline (eyes open)\",\n",
    "        55: \"Start MIST control\",\n",
    "        56: \"End MIST control\",\n",
    "        70: \"Start rest control (eyes closed)\",\n",
    "        71: \"Start rest control (eyes closed)\",\n",
    "        72: \"Start rest control (eyes open)\",\n",
    "        73: \"End rest control (eyes open)\",\n",
    "        65: \"Start cyberball stress\",\n",
    "        66: \"End cyberball stress\",\n",
    "        80: \"Start rest stress (eyes closed)\",\n",
    "        81: \"Start rest stress (eyes closed)\",\n",
    "        82: \"Start rest stress (eyes open)\",\n",
    "        83: \"End rest stress (eyes open)\",\n",
    "        52: \"end\"\n",
    "    }\n",
    "}"
   ]
  },
  {
   "cell_type": "code",
   "execution_count": null,
   "id": "f82392e4-d45e-414c-827d-28aee65edb56",
   "metadata": {},
   "outputs": [],
   "source": [
    "# TODO \n",
    "#    -> append the process GSR module and also show the raw data \n",
    "#"
   ]
  }
 ],
 "metadata": {
  "interpreter": {
   "hash": "c2414adab46b34d05802c7092925a7e8906b95b42fbc9726df7147cbc4a43a47"
  },
  "kernelspec": {
   "display_name": "Python 3.8.12 ('cyberball-mist-analysis-yH9Bfvkg-py3.8')",
   "language": "python",
   "name": "python3"
  },
  "language_info": {
   "codemirror_mode": {
    "name": "ipython",
    "version": 3
   },
   "file_extension": ".py",
   "mimetype": "text/x-python",
   "name": "python",
   "nbconvert_exporter": "python",
   "pygments_lexer": "ipython3",
   "version": "3.8.12"
  }
 },
 "nbformat": 4,
 "nbformat_minor": 5
}
