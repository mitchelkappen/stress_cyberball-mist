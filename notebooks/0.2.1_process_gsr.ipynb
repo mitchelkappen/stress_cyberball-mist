{
 "cells": [
  {
   "cell_type": "markdown",
   "metadata": {},
   "source": [
    "# Process scl data"
   ]
  },
  {
   "cell_type": "code",
   "execution_count": 1,
   "metadata": {},
   "outputs": [],
   "source": [
    "%load_ext autoreload\n",
    "%autoreload 2"
   ]
  },
  {
   "cell_type": "code",
   "execution_count": 2,
   "metadata": {},
   "outputs": [],
   "source": [
    "from scipy.signal import find_peaks, find_peaks_cwt\n",
    "import pandas as pd\n",
    "import sys\n",
    "sys.path.append('..')"
   ]
  },
  {
   "cell_type": "code",
   "execution_count": 3,
   "metadata": {},
   "outputs": [],
   "source": [
    "from cybb_mist.scl_processing import process_gsr_pipeline, low_pass_filter\n",
    "from cybb_mist.trigger_mapping import parse_trigger_series\n",
    "from cybb_mist.path_conf import interim_data_dir, processed_data_dir\n",
    "\n",
    "from plotly_resampler import FigureWidgetResampler\n",
    "from plotly.subplots import make_subplots\n",
    "import plotly.graph_objects as go\n",
    "from tqdm.auto import tqdm\n",
    "import os"
   ]
  },
  {
   "cell_type": "markdown",
   "metadata": {},
   "source": [
    "### Test the extraction on a single file"
   ]
  },
  {
   "cell_type": "code",
   "execution_count": 4,
   "metadata": {},
   "outputs": [
    {
     "data": {
      "application/vnd.jupyter.widget-view+json": {
       "model_id": "b29f352e191740e9a88d25fa76d4ca34",
       "version_major": 2,
       "version_minor": 0
      },
      "text/plain": [
       "  0%|          | 0/124 [00:00<?, ?it/s]"
      ]
     },
     "metadata": {},
     "output_type": "display_data"
    },
    {
     "name": "stdout",
     "output_type": "stream",
     "text": [
      "/users/jonvdrdo/jonas/data/cyberball/interim/4/SCL_mist.parquet\n"
     ]
    }
   ],
   "source": [
    "# First, process the aligned EDF files\n",
    "for pqt in tqdm(list(interim_data_dir.rglob(\"*/SCL_*.parquet\"))):\n",
    "    print(pqt)\n",
    "    condition = pqt.name.split('.')[0].split('_')[1]\n",
    "\n",
    "    # Read & process the ECG file\n",
    "    df_scl = pd.read_parquet(pqt)\n",
    "\n",
    "    df_trigger = parse_trigger_series(df_scl[\"trigger\"])\n",
    "    start, end = df_trigger.t_start.iloc[0], df_trigger.t_start.iloc[-1]\n",
    "    df_scl_proc = process_gsr_pipeline(df_scl[\"SCL\"][start:end].rename('EDA'))\n",
    "\n",
    "    break\n"
   ]
  },
  {
   "cell_type": "code",
   "execution_count": 23,
   "metadata": {},
   "outputs": [
    {
     "data": {
      "text/plain": [
       "0 days 00:00:00.100000    37439\n",
       "Name: timestamp, dtype: int64"
      ]
     },
     "execution_count": 23,
     "metadata": {},
     "output_type": "execute_result"
    }
   ],
   "source": [
    "df_scl_proc['EDA_Phasic'].dropna().index.to_series().diff().value_counts()"
   ]
  },
  {
   "cell_type": "code",
   "execution_count": 25,
   "metadata": {},
   "outputs": [
    {
     "data": {
      "text/plain": [
       "1.0    83\n",
       "Name: SCR_Peaks_scipy_reduced, dtype: int64"
      ]
     },
     "execution_count": 25,
     "metadata": {},
     "output_type": "execute_result"
    }
   ],
   "source": [
    "df_scl_proc['SCR_Peaks_scipy_reduced'].value_counts()"
   ]
  },
  {
   "cell_type": "code",
   "execution_count": 26,
   "metadata": {},
   "outputs": [
    {
     "data": {
      "text/plain": [
       "0 days 00:00:00.100000    37439\n",
       "Name: timestamp, dtype: int64"
      ]
     },
     "execution_count": 26,
     "metadata": {},
     "output_type": "execute_result"
    }
   ],
   "source": [
    "df_scl_proc['EDA_lf_cleaned_tonic_lf'].dropna().index.to_series().diff().value_counts()"
   ]
  },
  {
   "cell_type": "code",
   "execution_count": 27,
   "metadata": {},
   "outputs": [
    {
     "data": {
      "text/plain": [
       "0 days 00:00:00.100000    38393\n",
       "Name: timestamp, dtype: int64"
      ]
     },
     "execution_count": 27,
     "metadata": {},
     "output_type": "execute_result"
    }
   ],
   "source": [
    "df_scl_proc['EDA_SQI_smoothend'].dropna().index.to_series().diff().value_counts()"
   ]
  },
  {
   "cell_type": "markdown",
   "metadata": {},
   "source": [
    "## Apply the extraction on all the files"
   ]
  },
  {
   "cell_type": "code",
   "execution_count": 32,
   "metadata": {},
   "outputs": [
    {
     "data": {
      "application/vnd.jupyter.widget-view+json": {
       "model_id": "1713b025e4ad45f185b877a90068620b",
       "version_major": 2,
       "version_minor": 0
      },
      "text/plain": [
       "  0%|          | 0/124 [00:00<?, ?it/s]"
      ]
     },
     "metadata": {},
     "output_type": "display_data"
    },
    {
     "name": "stdout",
     "output_type": "stream",
     "text": [
      "/users/jonvdrdo/jonas/data/cyberball/interim/4/SCL_mist.parquet\n",
      "/users/jonvdrdo/jonas/data/cyberball/interim/4/SCL_cybb.parquet\n",
      "/users/jonvdrdo/jonas/data/cyberball/interim/45/SCL_mist.parquet\n",
      "/users/jonvdrdo/jonas/data/cyberball/interim/45/SCL_cybb.parquet\n",
      "/users/jonvdrdo/jonas/data/cyberball/interim/63/SCL_cybb.parquet\n",
      "/users/jonvdrdo/jonas/data/cyberball/interim/17/SCL_mist.parquet\n",
      "/users/jonvdrdo/jonas/data/cyberball/interim/17/SCL_cybb.parquet\n",
      "/users/jonvdrdo/jonas/data/cyberball/interim/54/SCL_mist.parquet\n",
      "/users/jonvdrdo/jonas/data/cyberball/interim/54/SCL_cybb.parquet\n",
      "/users/jonvdrdo/jonas/data/cyberball/interim/69/SCL_cybb.parquet\n",
      "/users/jonvdrdo/jonas/data/cyberball/interim/34/SCL_mist.parquet\n",
      "/users/jonvdrdo/jonas/data/cyberball/interim/34/SCL_cybb.parquet\n",
      "/users/jonvdrdo/jonas/data/cyberball/interim/53/SCL_mist.parquet\n",
      "/users/jonvdrdo/jonas/data/cyberball/interim/53/SCL_cybb.parquet\n",
      "/users/jonvdrdo/jonas/data/cyberball/interim/22/SCL_mist.parquet\n",
      "/users/jonvdrdo/jonas/data/cyberball/interim/22/SCL_cybb.parquet\n",
      "/users/jonvdrdo/jonas/data/cyberball/interim/23/SCL_mist.parquet\n",
      "/users/jonvdrdo/jonas/data/cyberball/interim/23/SCL_cybb.parquet\n",
      "/users/jonvdrdo/jonas/data/cyberball/interim/64/SCL_mist.parquet\n",
      "/users/jonvdrdo/jonas/data/cyberball/interim/64/SCL_cybb.parquet\n",
      "/users/jonvdrdo/jonas/data/cyberball/interim/49/SCL_cybb.parquet\n",
      "/users/jonvdrdo/jonas/data/cyberball/interim/13/SCL_mist.parquet\n",
      "/users/jonvdrdo/jonas/data/cyberball/interim/13/SCL_cybb.parquet\n",
      "/users/jonvdrdo/jonas/data/cyberball/interim/70/SCL_mist.parquet\n",
      "/users/jonvdrdo/jonas/data/cyberball/interim/70/SCL_cybb.parquet\n",
      "/users/jonvdrdo/jonas/data/cyberball/interim/20/SCL_cybb.parquet\n",
      "/users/jonvdrdo/jonas/data/cyberball/interim/42/SCL_mist.parquet\n",
      "/users/jonvdrdo/jonas/data/cyberball/interim/42/SCL_cybb.parquet\n",
      "/users/jonvdrdo/jonas/data/cyberball/interim/48/SCL_mist.parquet\n",
      "/users/jonvdrdo/jonas/data/cyberball/interim/48/SCL_cybb.parquet\n",
      "/users/jonvdrdo/jonas/data/cyberball/interim/11/SCL_mist.parquet\n",
      "/users/jonvdrdo/jonas/data/cyberball/interim/11/SCL_cybb.parquet\n",
      "/users/jonvdrdo/jonas/data/cyberball/interim/37/SCL_mist.parquet\n",
      "/users/jonvdrdo/jonas/data/cyberball/interim/37/SCL_cybb.parquet\n",
      "/users/jonvdrdo/jonas/data/cyberball/interim/8/SCL_mist.parquet\n",
      "/users/jonvdrdo/jonas/data/cyberball/interim/8/SCL_cybb.parquet\n",
      "/users/jonvdrdo/jonas/data/cyberball/interim/66/SCL_mist.parquet\n",
      "/users/jonvdrdo/jonas/data/cyberball/interim/55/SCL_mist.parquet\n",
      "/users/jonvdrdo/jonas/data/cyberball/interim/55/SCL_cybb.parquet\n",
      "/users/jonvdrdo/jonas/data/cyberball/interim/24/SCL_mist.parquet\n",
      "/users/jonvdrdo/jonas/data/cyberball/interim/24/SCL_cybb.parquet\n",
      "/users/jonvdrdo/jonas/data/cyberball/interim/9/SCL_mist.parquet\n",
      "/users/jonvdrdo/jonas/data/cyberball/interim/9/SCL_cybb.parquet\n",
      "/users/jonvdrdo/jonas/data/cyberball/interim/40/SCL_mist.parquet\n",
      "/users/jonvdrdo/jonas/data/cyberball/interim/40/SCL_cybb.parquet\n",
      "/users/jonvdrdo/jonas/data/cyberball/interim/72/SCL_mist.parquet\n",
      "/users/jonvdrdo/jonas/data/cyberball/interim/72/SCL_cybb.parquet\n",
      "/users/jonvdrdo/jonas/data/cyberball/interim/15/SCL_mist.parquet\n",
      "/users/jonvdrdo/jonas/data/cyberball/interim/15/SCL_cybb.parquet\n",
      "/users/jonvdrdo/jonas/data/cyberball/interim/31/SCL_mist.parquet\n",
      "/users/jonvdrdo/jonas/data/cyberball/interim/31/SCL_cybb.parquet\n",
      "/users/jonvdrdo/jonas/data/cyberball/interim/71/SCL_mist.parquet\n",
      "/users/jonvdrdo/jonas/data/cyberball/interim/71/SCL_cybb.parquet\n",
      "/users/jonvdrdo/jonas/data/cyberball/interim/14/SCL_mist.parquet\n",
      "/users/jonvdrdo/jonas/data/cyberball/interim/14/SCL_cybb.parquet\n",
      "single positional indexer is out-of-bounds\n",
      "/users/jonvdrdo/jonas/data/cyberball/interim/33/SCL_mist.parquet\n",
      "/users/jonvdrdo/jonas/data/cyberball/interim/33/SCL_cybb.parquet\n",
      "/users/jonvdrdo/jonas/data/cyberball/interim/35/SCL_mist.parquet\n",
      "/users/jonvdrdo/jonas/data/cyberball/interim/35/SCL_cybb.parquet\n",
      "/users/jonvdrdo/jonas/data/cyberball/interim/56/SCL_mist.parquet\n",
      "/users/jonvdrdo/jonas/data/cyberball/interim/56/SCL_cybb.parquet\n",
      "/users/jonvdrdo/jonas/data/cyberball/interim/10/SCL_mist.parquet\n",
      "/users/jonvdrdo/jonas/data/cyberball/interim/10/SCL_cybb.parquet\n",
      "/users/jonvdrdo/jonas/data/cyberball/interim/39/SCL_mist.parquet\n",
      "/users/jonvdrdo/jonas/data/cyberball/interim/39/SCL_cybb.parquet\n",
      "/users/jonvdrdo/jonas/data/cyberball/interim/46/SCL_mist.parquet\n",
      "/users/jonvdrdo/jonas/data/cyberball/interim/46/SCL_cybb.parquet\n",
      "/users/jonvdrdo/jonas/data/cyberball/interim/6/SCL_mist.parquet\n",
      "/users/jonvdrdo/jonas/data/cyberball/interim/6/SCL_cybb.parquet\n",
      "/users/jonvdrdo/jonas/data/cyberball/interim/32/SCL_mist.parquet\n",
      "/users/jonvdrdo/jonas/data/cyberball/interim/32/SCL_cybb.parquet\n",
      "/users/jonvdrdo/jonas/data/cyberball/interim/41/SCL_mist.parquet\n",
      "single positional indexer is out-of-bounds\n",
      "/users/jonvdrdo/jonas/data/cyberball/interim/41/SCL_cybb.parquet\n",
      "/users/jonvdrdo/jonas/data/cyberball/interim/19/SCL_mist.parquet\n",
      "/users/jonvdrdo/jonas/data/cyberball/interim/19/SCL_cybb.parquet\n",
      "/users/jonvdrdo/jonas/data/cyberball/interim/51/SCL_mist (PROBLEM WITH PROGRAM).parquet\n",
      "/users/jonvdrdo/jonas/data/cyberball/interim/51/SCL_cybb.parquet\n",
      "/users/jonvdrdo/jonas/data/cyberball/interim/59/SCL_mist.parquet\n",
      "/users/jonvdrdo/jonas/data/cyberball/interim/59/SCL_cybb.parquet\n",
      "/users/jonvdrdo/jonas/data/cyberball/interim/27/SCL_mist.parquet\n",
      "/users/jonvdrdo/jonas/data/cyberball/interim/27/SCL_cybb.parquet\n",
      "/users/jonvdrdo/jonas/data/cyberball/interim/73/SCL_cybb.parquet\n",
      "/users/jonvdrdo/jonas/data/cyberball/interim/5/SCL_mist.parquet\n",
      "/users/jonvdrdo/jonas/data/cyberball/interim/5/SCL_cybb.parquet\n",
      "/users/jonvdrdo/jonas/data/cyberball/interim/47/SCL_mist.parquet\n",
      "/users/jonvdrdo/jonas/data/cyberball/interim/47/SCL_cybb.parquet\n",
      "/users/jonvdrdo/jonas/data/cyberball/interim/58/SCL_cybb.parquet\n",
      "/users/jonvdrdo/jonas/data/cyberball/interim/36/SCL_mist.parquet\n",
      "/users/jonvdrdo/jonas/data/cyberball/interim/36/SCL_cybb.parquet\n",
      "/users/jonvdrdo/jonas/data/cyberball/interim/28/SCL_mist.parquet\n",
      "/users/jonvdrdo/jonas/data/cyberball/interim/28/SCL_cybb.parquet\n",
      "/users/jonvdrdo/jonas/data/cyberball/interim/52/SCL_mist.parquet\n",
      "/users/jonvdrdo/jonas/data/cyberball/interim/52/SCL_cybb.parquet\n",
      "/users/jonvdrdo/jonas/data/cyberball/interim/57/SCL_mist.parquet\n",
      "/users/jonvdrdo/jonas/data/cyberball/interim/57/SCL_cybb.parquet\n",
      "/users/jonvdrdo/jonas/data/cyberball/interim/60/SCL_mist.parquet\n",
      "/users/jonvdrdo/jonas/data/cyberball/interim/60/SCL_cybb.parquet\n",
      "/users/jonvdrdo/jonas/data/cyberball/interim/29/SCL_cybb.parquet\n",
      "/users/jonvdrdo/jonas/data/cyberball/interim/38/SCL_cybb.parquet\n",
      "/users/jonvdrdo/jonas/data/cyberball/interim/18/SCL_mist.parquet\n",
      "/users/jonvdrdo/jonas/data/cyberball/interim/18/SCL_cybb.parquet\n",
      "/users/jonvdrdo/jonas/data/cyberball/interim/16/SCL_mist.parquet\n",
      "/users/jonvdrdo/jonas/data/cyberball/interim/16/SCL_cybb.parquet\n",
      "/users/jonvdrdo/jonas/data/cyberball/interim/7/SCL_mist.parquet\n",
      "/users/jonvdrdo/jonas/data/cyberball/interim/7/SCL_cybb.parquet\n",
      "/users/jonvdrdo/jonas/data/cyberball/interim/44/SCL_mist.parquet\n",
      "/users/jonvdrdo/jonas/data/cyberball/interim/44/SCL_cybb.parquet\n",
      "/users/jonvdrdo/jonas/data/cyberball/interim/1/SCL_mist.parquet\n",
      "/users/jonvdrdo/jonas/data/cyberball/interim/2/SCL_mist.parquet\n",
      "/users/jonvdrdo/jonas/data/cyberball/interim/2/SCL_cybb.parquet\n",
      "/users/jonvdrdo/jonas/data/cyberball/interim/61/SCL_mist.parquet\n",
      "/users/jonvdrdo/jonas/data/cyberball/interim/61/SCL_cybb.parquet\n",
      "/users/jonvdrdo/jonas/data/cyberball/interim/30/SCL_mist.parquet\n",
      "/users/jonvdrdo/jonas/data/cyberball/interim/30/SCL_cybb.parquet\n",
      "/users/jonvdrdo/jonas/data/cyberball/interim/25/SCL_mist.parquet\n",
      "/users/jonvdrdo/jonas/data/cyberball/interim/25/SCL_cybb.parquet\n",
      "/users/jonvdrdo/jonas/data/cyberball/interim/43/SCL_mist.parquet\n",
      "/users/jonvdrdo/jonas/data/cyberball/interim/43/SCL_cybb.parquet\n",
      "/users/jonvdrdo/jonas/data/cyberball/interim/12/SCL_mist.parquet\n",
      "/users/jonvdrdo/jonas/data/cyberball/interim/12/SCL_cybb.parquet\n",
      "/users/jonvdrdo/jonas/data/cyberball/interim/21/SCL_mist.parquet\n",
      "/users/jonvdrdo/jonas/data/cyberball/interim/21/SCL_cybb.parquet\n",
      "/users/jonvdrdo/jonas/data/cyberball/interim/62/SCL_mist.parquet\n",
      "/users/jonvdrdo/jonas/data/cyberball/interim/62/SCL_cybb.parquet\n"
     ]
    }
   ],
   "source": [
    "# First, process the aligned EDF files\n",
    "for pqt in tqdm(list(interim_data_dir.rglob(\"*/SCL_*.parquet\"))):\n",
    "    try:\n",
    "        print(pqt)\n",
    "        condition = pqt.name.split(\".\")[0].split(\"_\")[1]\n",
    "\n",
    "        # Read & process the ECG file\n",
    "        df_scl = pd.read_parquet(pqt)\n",
    "\n",
    "        df_trigger = parse_trigger_series(df_scl[\"trigger\"])\n",
    "        start, end = df_trigger.t_start.iloc[0], df_trigger.t_start.iloc[-1]\n",
    "        df_scl_proc = process_gsr_pipeline(df_scl[\"SCL\"][start:end].rename(\"EDA\"))\n",
    "        df_scl_proc = df_scl_proc[\n",
    "            [\n",
    "                \"EDA_lf_cleaned_tonic_lf\",\n",
    "                \"EDA_SQI_smoothend\",\n",
    "                \"EDA_Phasic\",\n",
    "                \"SCR_Peaks_scipy_reduced\",\n",
    "            ]\n",
    "        ]\n",
    "\n",
    "        # Save the processed file in feat stat dir\n",
    "        scl_stat_dir = processed_data_dir.joinpath(pqt.parent.name)\n",
    "        if not scl_stat_dir.exists():\n",
    "            os.makedirs(scl_stat_dir)\n",
    "        df_scl_proc.to_parquet(\n",
    "            scl_stat_dir.joinpath(f\"df_scl_proc_{condition}.parquet\")\n",
    "        )\n",
    "    except Exception as e:\n",
    "        print(e)\n"
   ]
  },
  {
   "cell_type": "markdown",
   "metadata": {},
   "source": [
    "## Playground"
   ]
  },
  {
   "cell_type": "code",
   "execution_count": null,
   "metadata": {},
   "outputs": [],
   "source": [
    "USER = 73\n",
    "PARADIGM = \"cybb\"\n",
    "\n",
    "df_scl = pd.read_parquet(\n",
    "    list(interim_data_dir.joinpath(str(USER)).glob(f\"SCL_{PARADIGM}*\"))[0]\n",
    ")\n"
   ]
  },
  {
   "cell_type": "code",
   "execution_count": null,
   "metadata": {},
   "outputs": [],
   "source": [
    "out = process_gsr_pipeline(df_scl['SCL'].rename('EDA'))\n",
    "out.columns"
   ]
  },
  {
   "cell_type": "code",
   "execution_count": null,
   "metadata": {},
   "outputs": [],
   "source": [
    "import numpy as np"
   ]
  },
  {
   "cell_type": "code",
   "execution_count": null,
   "metadata": {},
   "outputs": [],
   "source": []
  },
  {
   "cell_type": "code",
   "execution_count": null,
   "metadata": {},
   "outputs": [],
   "source": [
    "def delta_sqi(\n",
    "    eda_series: pd.Series,\n",
    "    noise_series: pd.Series,\n",
    "    noise_threshold=0.1,\n",
    "    min_delta_threshold=0.02,\n",
    "    max_increase=0.25,  # the ratio which a signal can increase in a second\n",
    "    max_decrease=0.1,  # the ratio which a signal can decrease in a second\n",
    "    fs=10,\n",
    "    window_s: int = 1,\n",
    "    output_name: str = \"eda_delta_SQI\",\n",
    ") -> pd.Series:\n",
    "    eda_med = eda_series.rolling(fs * window_s, center=True).median()\n",
    "    increase_threshold = np.maximum(\n",
    "        min_delta_threshold, eda_med * max_increase / fs\n",
    "    )\n",
    "    decrease_threshold = (\n",
    "        np.maximum(min_delta_threshold, eda_med * max_decrease / fs) * -1\n",
    "    )\n",
    "    delta = eda_series.diff()\n",
    "    valid_decrease = (\n",
    "        # and slow decrease | harsher decrease but rather low noise\n",
    "        (delta >= decrease_threshold)\n",
    "        | (delta >= 2 * decrease_threshold) & (noise_series <= noise_threshold / 2)\n",
    "    )\n",
    "    # we will more severly focus on decrease masks\n",
    "    decrease_mask = valid_decrease.rolling(2 * fs).min().shift(-2*fs + 1).astype(bool)\n",
    "    valid_delta = (\n",
    "        # either slow increase | harsher increase but rather low noise!\n",
    "        ((delta <= 0.3 * increase_threshold) & ~decrease_mask)\n",
    "        | (delta <= increase_threshold) & decrease_mask\n",
    "        | (delta <= 2 * increase_threshold) & (noise_series <= noise_threshold / 2)\n",
    "    ) & valid_decrease\n",
    "    return valid_delta.rename(output_name)"
   ]
  },
  {
   "cell_type": "code",
   "execution_count": null,
   "metadata": {},
   "outputs": [],
   "source": [
    "delta_sqi(out['EDA_lf_2Hz'], out['noise_mean_2s']).astype(int).plot()"
   ]
  },
  {
   "cell_type": "code",
   "execution_count": null,
   "metadata": {},
   "outputs": [],
   "source": [
    "# find_peaks(out[\"EDA_Phasic\"], height=0.015, distance=10, prominence=0.03)"
   ]
  },
  {
   "cell_type": "code",
   "execution_count": null,
   "metadata": {},
   "outputs": [],
   "source": [
    "s_ff = low_pass_filter(\n",
    "    out[\"EDA_Phasic\"], f_cutoff=2, fs=10, output_name=\"EDA_Phasic_2Hz\"\n",
    ")\n",
    "s_fp, s_fp_d = find_peaks(\n",
    "    s_ff,\n",
    "    height=0.01,\n",
    "    distance=10 * 1,\n",
    "    prominence=0.15,\n",
    "    wlen=10 * 180,\n",
    ")\n",
    "\n",
    "s_fp_d['peak_index'] = s_fp\n",
    "df_peak = pd.DataFrame(s_fp_d)\n",
    "df_peak['left_bases'] = (df_peak['peak_index'] - df_peak['left_bases']) / 10\n",
    "df_peak['right_bases'] = (df_peak['right_bases'] - df_peak['peak_index']) / 10\n",
    "df_peak = df_peak.rename(columns={'left_bases': 'rise_time_s', 'right_bases': 'fall_time_s'})\n",
    "'rise_time: ' + df_peak['rise_time_s'].astype(str) + '\\n' + 'fall_time: ' + df_peak.fall_time_s.astype(str)"
   ]
  },
  {
   "cell_type": "code",
   "execution_count": null,
   "metadata": {},
   "outputs": [],
   "source": [
    "df_peak"
   ]
  },
  {
   "cell_type": "code",
   "execution_count": null,
   "metadata": {},
   "outputs": [],
   "source": [
    "(df_peak['rise_time_s'] < 14).value_counts()"
   ]
  },
  {
   "cell_type": "code",
   "execution_count": null,
   "metadata": {},
   "outputs": [],
   "source": [
    "import plotly_resampler"
   ]
  },
  {
   "cell_type": "code",
   "execution_count": null,
   "metadata": {},
   "outputs": [],
   "source": [
    "fig = FigureWidgetResampler(make_subplots(rows=3, cols=1, shared_xaxes=True))\n",
    "\n",
    "for col in [\"EDA\", \"EDA_lf_2Hz\"]:\n",
    "    fig.add_trace(go.Scatter(name=col), hf_x=out[col].index, hf_y=out[col])\n",
    "\n",
    "for col in [\"SCR_Peaks_neurokit_reduced\", \"SCR_Peaks_neurokit\"]:\n",
    "    s = out[out[col] == 1][\"EDA\"]\n",
    "    fig.add_trace(\n",
    "        go.Scatter(\n",
    "            name=col,\n",
    "            mode=\"markers\",\n",
    "            marker_symbol=\"cross\",\n",
    "            marker_size=10,\n",
    "        ),\n",
    "        limit_to_view=True,\n",
    "        hf_x=s.index,\n",
    "        hf_y=s,\n",
    "    )\n",
    "\n",
    "for col in [\"EDA_Phasic\"]:\n",
    "    fig.add_trace(\n",
    "        go.Scatter(name=col), hf_x=out[col].index, hf_y=out[col], row=2, col=1\n",
    "    )\n",
    "\n",
    "# s_ff: pd.Series = low_pass_filter(\n",
    "#     out[\"EDA_Phasic\"], f_cutoff=1, fs=10, output_name=\"EDA_Phasic_1Hz\"\n",
    "# )\n",
    "# fig.add_trace(go.Scatter(name=s_ff.name), hf_x=s_ff.index, hf_y=s_ff, row=2, col=1)\n",
    "s_ff: pd.Series = low_pass_filter(\n",
    "    out[\"EDA_Phasic\"], f_cutoff=2, fs=10, output_name=\"EDA_Phasic_2Hz\"\n",
    ")\n",
    "fig.add_trace(go.Scatter(name=s_ff.name), hf_x=s_ff.index, hf_y=s_ff, row=2, col=1)\n",
    "# s_ff: pd.Series = low_pass_filter(\n",
    "#     out[\"EDA_Phasic\"], f_cutoff=4, fs=10, output_name=\"EDA_Phasic_4Hz\"\n",
    "# )\n",
    "# fig.add_trace(go.Scatter(name=s_ff.name), hf_x=s_ff.index, hf_y=s_ff, row=2, col=1)\n",
    "\n",
    "\n",
    "s_ff = low_pass_filter(\n",
    "    out[\"EDA_Phasic\"], f_cutoff=2, fs=10, output_name=\"EDA_Phasic_2Hz\"\n",
    ")\n",
    "s_fp = s_ff.iloc[\n",
    "    find_peaks(\n",
    "        s_ff,\n",
    "        height=0.01,\n",
    "        distance=10 * 1,\n",
    "        prominence=0.1,\n",
    "        wlen=10 * 120,\n",
    "    )[0]\n",
    "]\n",
    "fig.add_trace(\n",
    "    go.Scatter(\n",
    "        name=\"scipy find peaks\",\n",
    "        mode=\"markers\",\n",
    "        marker_symbol=\"cross\",\n",
    "        marker_size=10,\n",
    "    ),\n",
    "    limit_to_view=True,\n",
    "    hf_x=s_fp.index,\n",
    "    hf_y=s_fp,\n",
    "    row=2,\n",
    "    col=1,\n",
    ")\n",
    "\n",
    "fig.add_trace(\n",
    "    go.Scatter(name=\"noise\"),\n",
    "    hf_x=out[\"noise_area_1s\"].index,\n",
    "    hf_y=out[\"EDA_Phasic\"] / out[\"noise_area_1s\"],\n",
    "    row=3,\n",
    "    col=1,\n",
    ")\n",
    "\n",
    "del s_fp, s, col, s_ff\n",
    "\n",
    "fig.update_layout(height=900)\n",
    "fig\n"
   ]
  },
  {
   "cell_type": "code",
   "execution_count": null,
   "metadata": {},
   "outputs": [],
   "source": []
  }
 ],
 "metadata": {
  "interpreter": {
   "hash": "c2414adab46b34d05802c7092925a7e8906b95b42fbc9726df7147cbc4a43a47"
  },
  "kernelspec": {
   "display_name": "Python 3.8.12 ('cyberball-mist-analysis-yH9Bfvkg-py3.8')",
   "language": "python",
   "name": "python3"
  },
  "language_info": {
   "codemirror_mode": {
    "name": "ipython",
    "version": 3
   },
   "file_extension": ".py",
   "mimetype": "text/x-python",
   "name": "python",
   "nbconvert_exporter": "python",
   "pygments_lexer": "ipython3",
   "version": "3.8.12"
  },
  "orig_nbformat": 4
 },
 "nbformat": 4,
 "nbformat_minor": 2
}