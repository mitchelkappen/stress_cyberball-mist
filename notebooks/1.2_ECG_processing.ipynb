{
 "cells": [
  {
   "cell_type": "markdown",
   "id": "d8b8789b-3c9c-48f7-adb2-b5faa4dfe358",
   "metadata": {},
   "source": [
    "# Extract R-peaks from ECG files"
   ]
  },
  {
   "cell_type": "code",
   "execution_count": 15,
   "id": "8ffa95b2-c08d-48ae-b36c-88ea4a01ef51",
   "metadata": {},
   "outputs": [
    {
     "name": "stdout",
     "output_type": "stream",
     "text": [
      "The autoreload extension is already loaded. To reload it, use:\n",
      "  %reload_ext autoreload\n"
     ]
    }
   ],
   "source": [
    "%load_ext autoreload\n",
    "%autoreload 2"
   ]
  },
  {
   "cell_type": "code",
   "execution_count": 16,
   "id": "40659e58-55db-43a4-b4ec-f7030b0a1c4d",
   "metadata": {},
   "outputs": [],
   "source": [
    "import os\n",
    "from pathlib import Path\n",
    "\n",
    "import pandas as pd\n",
    "from tqdm.auto import tqdm\n",
    "\n",
    "from study_scripts.process_ecg import process_ecg"
   ]
  },
  {
   "cell_type": "code",
   "execution_count": 17,
   "id": "4ff113b3-8b0f-4016-bee1-b1ff6148b0ad",
   "metadata": {},
   "outputs": [],
   "source": [
    "# configure user\n",
    "user = \"mitchel\"  # set this to mitchel\n",
    "\n",
    "if user.lower() == \"jonas\":\n",
    "    BASE_PATH = Path(\"/users/jonvdrdo/jonas/data/aaa_contextaware/raw/uz_study/\")\n",
    "elif user.lower() == \"mitchel\":\n",
    "    BASE_PATH = Path(\"D:/Data/EEG_Study_2/Data/\")\n",
    "else:\n",
    "    raise ValueError(\"Unknown user\")\n",
    "DATA_PATH = BASE_PATH.joinpath(\"Raw/Physiological (ECG, EDA, RSP)/\")\n",
    "\n",
    "eeg_feat_stat_dir = Path(DATA_PATH).joinpath(\"EEG2_study_feat_stats\")\n"
   ]
  },
  {
   "cell_type": "markdown",
   "id": "e606dba2-67e0-4f0c-890d-3dc8d5c64aa5",
   "metadata": {},
   "source": [
    "For more information about the ECG processing, look at [this python script](speech_study/process_ecg.py)."
   ]
  },
  {
   "cell_type": "markdown",
   "id": "b361256b-4269-4c6f-88af-f7f645e83c02",
   "metadata": {},
   "source": [
    "# Process the ECG VU-AMS files"
   ]
  },
  {
   "cell_type": "code",
   "execution_count": null,
   "id": "cf7a3ca1-bb4a-441f-a0ad-b74698374723",
   "metadata": {},
   "outputs": [],
   "source": []
  }
 ],
 "metadata": {
  "kernelspec": {
   "display_name": "Python 3 (ipykernel)",
   "language": "python",
   "name": "python3"
  },
  "language_info": {
   "codemirror_mode": {
    "name": "ipython",
    "version": 3
   },
   "file_extension": ".py",
   "mimetype": "text/x-python",
   "name": "python",
   "nbconvert_exporter": "python",
   "pygments_lexer": "ipython3",
   "version": "3.9.6"
  }
 },
 "nbformat": 4,
 "nbformat_minor": 5
}
