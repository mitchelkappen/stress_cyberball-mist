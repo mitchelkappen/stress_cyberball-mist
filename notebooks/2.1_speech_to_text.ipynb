{
 "cells": [
  {
   "cell_type": "markdown",
   "id": "fec552ce-000e-45af-8106-fe339b175d07",
   "metadata": {},
   "source": [
    "# Performing speech-to-text on files"
   ]
  },
  {
   "cell_type": "code",
   "execution_count": 52,
   "id": "39e82174-8609-4f94-b35b-cbbd0c08e253",
   "metadata": {},
   "outputs": [
    {
     "name": "stdout",
     "output_type": "stream",
     "text": [
      "The autoreload extension is already loaded. To reload it, use:\n",
      "  %reload_ext autoreload\n"
     ]
    }
   ],
   "source": [
    "%load_ext autoreload\n",
    "%autoreload 2"
   ]
  },
  {
   "cell_type": "code",
   "execution_count": 154,
   "id": "16f27672-9d1a-47a9-b3e0-7e2f73d60ecb",
   "metadata": {},
   "outputs": [
    {
     "ename": "ModuleNotFoundError",
     "evalue": "No module named 'cloudstorage'",
     "output_type": "error",
     "traceback": [
      "\u001b[1;31m---------------------------------------------------------------------------\u001b[0m",
      "\u001b[1;31mModuleNotFoundError\u001b[0m                       Traceback (most recent call last)",
      "\u001b[1;32m~\\AppData\\Local\\Temp/ipykernel_22780/1209082627.py\u001b[0m in \u001b[0;36m<module>\u001b[1;34m\u001b[0m\n\u001b[0;32m      7\u001b[0m \u001b[1;33m\u001b[0m\u001b[0m\n\u001b[0;32m      8\u001b[0m \u001b[1;32mimport\u001b[0m \u001b[0mspeech_recognition\u001b[0m \u001b[1;32mas\u001b[0m \u001b[0msr\u001b[0m\u001b[1;33m\u001b[0m\u001b[1;33m\u001b[0m\u001b[0m\n\u001b[1;32m----> 9\u001b[1;33m \u001b[1;32mimport\u001b[0m \u001b[0mcloudstorage\u001b[0m \u001b[1;32mas\u001b[0m \u001b[0mgcs\u001b[0m\u001b[1;33m\u001b[0m\u001b[1;33m\u001b[0m\u001b[0m\n\u001b[0m",
      "\u001b[1;31mModuleNotFoundError\u001b[0m: No module named 'cloudstorage'"
     ]
    }
   ],
   "source": [
    "from pathlib import Path\n",
    "from tqdm.auto import tqdm\n",
    "import pandas as pd\n",
    "from IPython.display import display\n",
    "import numpy as np\n",
    "import os\n",
    "\n",
    "import speech_recognition as sr\n",
    "import cloudstorage as gcs"
   ]
  },
  {
   "cell_type": "code",
   "execution_count": 54,
   "id": "cd6dc218-d61a-4f4c-87cb-bcfa77c260e5",
   "metadata": {},
   "outputs": [],
   "source": [
    "# configure user\n",
    "user = \"mitchel\"\n",
    "extracted_feats = True\n",
    "\n",
    "if user.lower() == \"jonas\":\n",
    "    BASE_PATH = Path(\"/users/jonvdrdo/jonas/data/aaa_contextaware/raw/uz_study/\")\n",
    "elif user.lower() == \"mitchel\":\n",
    "#     BASE_PATH = Path(\"Z:/shares/ghep_lab/2021_VanhollebekeKappen_EEGStudy2_MIST_Cyberball_Audio/\")\n",
    "    BASE_PATH = Path(\"D:/Data/EEG_Study_2\")\n",
    "DATA_PATH = BASE_PATH.joinpath(\"Data/Raw/Audio\")"
   ]
  },
  {
   "cell_type": "code",
   "execution_count": 55,
   "id": "f79f2a8a-23d6-411e-bb0e-bc3da5bd2344",
   "metadata": {},
   "outputs": [
    {
     "name": "stdout",
     "output_type": "stream",
     "text": [
      "op de afbeeldingen afbeelding van een rekensom x door 72 keer 2 en dan 30 eten komen en dan denk ik dat ik eerst die andere twee samen heb genomen tot dat 31 uitkwam en dan kan ik zo even uit denk dat ik wel redelijk op mijn gemak was was het toch erg dat je snel snel denken maar wordt in ieder geval heerlijk rustig en de regels opgesteld dat het 72/2 met een breuk met een scherm wordt weergegeven te haakjes en dan datum 27 en 4 en dan lekker tegen en scherpe vraagteken\n"
     ]
    }
   ],
   "source": [
    "# https://www.thepythoncode.com/article/using-speech-recognition-to-convert-speech-to-text-python\n",
    "filename = \"D:/Data/EEG_Study_2/Data/Raw/Audio/ppt_8_mist_speech/audio_referential_control.wav\"\n",
    "\n",
    "# initialize the recognizer\n",
    "r = sr.Recognizer()\n",
    "\n",
    "# open the file\n",
    "with sr.AudioFile(filename) as source:\n",
    "    # listen for the data (load audio to memory)\n",
    "    audio_data = r.record(source)\n",
    "    # recognize (convert from speech to text)\n",
    "    text = r.recognize_google(audio_data, language=\"nl-NL\")\n",
    "    print(text)"
   ]
  },
  {
   "cell_type": "code",
   "execution_count": 11,
   "id": "9e23a76f-b4e9-4d32-be7f-4ac4e1ceb2c5",
   "metadata": {},
   "outputs": [
    {
     "name": "stdout",
     "output_type": "stream",
     "text": [
      "Ik zie op het scherm en rekenopgaven staan die staat op het bovenste deel van het scherm aan de rest van het scherm is wit de rekenopgaven omvat een deling eerst en vooral die tussen haakjes staat 72/2 daarna en daarna 2 aftrekkingen en met 27 en -4 sterren is gelijk aan teken en een vraagteken waarde het antwoord zou moeten komen de rekenopgaven is een vrij moeilijke rekenopgave aan moeilijker dan ik verwacht had om hier te zien te krijgen\n"
     ]
    }
   ],
   "source": [
    "# https://www.thepythoncode.com/article/using-speech-recognition-to-convert-speech-to-text-python\n",
    "filename = \"D:/Data/EEG_Study_2/Data/Raw/Audio/ppt_12_mist_speech/audio_referential_control.wav\"\n",
    "\n",
    "# initialize the recognizer\n",
    "r = sr.Recognizer()\n",
    "\n",
    "# open the file\n",
    "with sr.AudioFile(filename) as source:\n",
    "    # listen for the data (load audio to memory)\n",
    "    audio_data = r.record(source)\n",
    "    # recognize (convert from speech to text)\n",
    "    text = r.recognize_google(audio_data, language=\"nl-BE\")\n",
    "    print(text)"
   ]
  },
  {
   "cell_type": "code",
   "execution_count": 24,
   "id": "6e9c9139-77d0-4042-920f-b0062b23a729",
   "metadata": {},
   "outputs": [
    {
     "name": "stderr",
     "output_type": "stream",
     "text": [
      "[nltk_data] Downloading package punkt to\n",
      "[nltk_data]     C:\\Users\\mitch\\AppData\\Roaming\\nltk_data...\n",
      "[nltk_data]   Package punkt is already up-to-date!\n",
      "[nltk_data] Downloading package averaged_perceptron_tagger to\n",
      "[nltk_data]     C:\\Users\\mitch\\AppData\\Roaming\\nltk_data...\n",
      "[nltk_data]   Package averaged_perceptron_tagger is already up-to-\n",
      "[nltk_data]       date!\n",
      "[nltk_data] Downloading package brown to\n",
      "[nltk_data]     C:\\Users\\mitch\\AppData\\Roaming\\nltk_data...\n",
      "[nltk_data]   Unzipping corpora\\brown.zip.\n"
     ]
    },
    {
     "data": {
      "text/plain": [
       "True"
      ]
     },
     "execution_count": 24,
     "metadata": {},
     "output_type": "execute_result"
    }
   ],
   "source": [
    "# https://textblob.readthedocs.io/en/dev/\n",
    "\n",
    "from textblob import TextBlob\n",
    "import nltk\n",
    "nltk.download('punkt') # Used for tags\n",
    "nltk.download('averaged_perceptron_tagger') # Used for tags\n",
    "nltk.download('brown') # Used for noun phrases"
   ]
  },
  {
   "cell_type": "code",
   "execution_count": 34,
   "id": "2a267811-c05f-425b-92d0-d77bf62972ce",
   "metadata": {},
   "outputs": [
    {
     "name": "stdout",
     "output_type": "stream",
     "text": [
      "Sentiment(polarity=0.0, subjectivity=0.0)\n"
     ]
    }
   ],
   "source": [
    "blob = TextBlob(text)\n",
    "\n",
    "blob.tags\n",
    "\n",
    "blob.noun_phrases\n",
    "\n",
    "for sentence in blob.sentences:\n",
    "    print(sentence.sentiment)"
   ]
  },
  {
   "cell_type": "code",
   "execution_count": 44,
   "id": "2872ee13-f284-4920-b4a3-92b469dac1bf",
   "metadata": {},
   "outputs": [
    {
     "data": {
      "text/plain": [
       "(-0.06333333333333334, 0.4766666666666667)"
      ]
     },
     "execution_count": 44,
     "metadata": {},
     "output_type": "execute_result"
    }
   ],
   "source": [
    "# Now Dutch\n",
    "# https://github.com/gvisniuc/textblob-nl\n",
    "\n",
    "from textblob_nl import PatternTagger, PatternAnalyzer\n",
    "\n",
    "blob = TextBlob(text, pos_tagger=PatternTagger(), analyzer=PatternAnalyzer())\n",
    "\n",
    "# The sentiment property returns a namedtuple of the form Sentiment(polarity, subjectivity). The polarity score is a float within the range [-1.0, 1.0]. The subjectivity is a float within the range [0.0, 1.0] where 0.0 is very objective and 1.0 is very subjective.\n",
    "blob.sentiment # Polarity, subjectivity"
   ]
  },
  {
   "cell_type": "code",
   "execution_count": 43,
   "id": "f4fd4f81-13cd-4866-849e-9651269e8f24",
   "metadata": {},
   "outputs": [
    {
     "data": {
      "text/plain": [
       "0.024691358024691357"
      ]
     },
     "execution_count": 43,
     "metadata": {},
     "output_type": "execute_result"
    }
   ],
   "source": [
    "# Word count\n",
    "blob.word_counts['ik'] # For instance 'ik'\n",
    "\n",
    "# Relative word usage (proportional):\n",
    "blob.word_counts['ik']  / len(blob.words)"
   ]
  },
  {
   "cell_type": "markdown",
   "id": "43a10a2b-4a2d-4eeb-82e9-ff01e9ad6a75",
   "metadata": {},
   "source": [
    "# Next option needs billing, but could be helpful for confidences"
   ]
  },
  {
   "cell_type": "code",
   "execution_count": 157,
   "id": "c51202f7-29f3-4cef-b7bd-d6d3288e2f2b",
   "metadata": {},
   "outputs": [
    {
     "ename": "AttributeError",
     "evalue": "'Operation' object has no attribute 'results'",
     "output_type": "error",
     "traceback": [
      "\u001b[1;31m---------------------------------------------------------------------------\u001b[0m",
      "\u001b[1;31mAttributeError\u001b[0m                            Traceback (most recent call last)",
      "\u001b[1;32m~\\AppData\\Local\\Temp/ipykernel_22780/2706279058.py\u001b[0m in \u001b[0;36m<module>\u001b[1;34m\u001b[0m\n\u001b[0;32m     28\u001b[0m \u001b[0mresponse\u001b[0m \u001b[1;33m=\u001b[0m \u001b[0mclient\u001b[0m\u001b[1;33m.\u001b[0m\u001b[0mlong_running_recognize\u001b[0m\u001b[1;33m(\u001b[0m\u001b[0mconfig\u001b[0m\u001b[1;33m=\u001b[0m\u001b[0mconfig\u001b[0m\u001b[1;33m,\u001b[0m \u001b[0maudio\u001b[0m\u001b[1;33m=\u001b[0m\u001b[0maudio\u001b[0m\u001b[1;33m)\u001b[0m\u001b[1;33m\u001b[0m\u001b[1;33m\u001b[0m\u001b[0m\n\u001b[0;32m     29\u001b[0m \u001b[1;33m\u001b[0m\u001b[0m\n\u001b[1;32m---> 30\u001b[1;33m \u001b[1;32mfor\u001b[0m \u001b[0mi\u001b[0m\u001b[1;33m,\u001b[0m \u001b[0mresult\u001b[0m \u001b[1;32min\u001b[0m \u001b[0menumerate\u001b[0m\u001b[1;33m(\u001b[0m\u001b[0mresponse\u001b[0m\u001b[1;33m.\u001b[0m\u001b[0mresults\u001b[0m\u001b[1;33m)\u001b[0m\u001b[1;33m:\u001b[0m\u001b[1;33m\u001b[0m\u001b[1;33m\u001b[0m\u001b[0m\n\u001b[0m\u001b[0;32m     31\u001b[0m     \u001b[0malternative\u001b[0m \u001b[1;33m=\u001b[0m \u001b[0mresult\u001b[0m\u001b[1;33m.\u001b[0m\u001b[0malternatives\u001b[0m\u001b[1;33m[\u001b[0m\u001b[1;36m0\u001b[0m\u001b[1;33m]\u001b[0m\u001b[1;33m\u001b[0m\u001b[1;33m\u001b[0m\u001b[0m\n\u001b[0;32m     32\u001b[0m     \u001b[0mprint\u001b[0m\u001b[1;33m(\u001b[0m\u001b[1;34m\"-\"\u001b[0m \u001b[1;33m*\u001b[0m \u001b[1;36m20\u001b[0m\u001b[1;33m)\u001b[0m\u001b[1;33m\u001b[0m\u001b[1;33m\u001b[0m\u001b[0m\n",
      "\u001b[1;31mAttributeError\u001b[0m: 'Operation' object has no attribute 'results'"
     ]
    }
   ],
   "source": [
    "# https://cloud.google.com/speech-to-text/docs/transcribe-client-libraries\n",
    "# https://cloud.google.com/speech-to-text/docs/word-confidence#speech_transcribe_word_level_confidence_beta-python\n",
    "\n",
    "\n",
    "os.environ[\"GOOGLE_APPLICATION_CREDENTIALS\"] = \"C:/Users/mitch/OneDrive - UGent/UGent/Topics/Speech/Speech-to-text/Google-cloud/speechtextflemish01-996614be0f32.json\"\n",
    "\n",
    "from google.cloud import speech_v1p1beta1 as speech\n",
    "\n",
    "client = speech.SpeechClient()\n",
    "\n",
    "speech_file = \"D:/Data/EEG_Study_2/Data/Raw/Audio/ppt_12_mist_speech/audio_referential_control.wav\"\n",
    "speech_file = \"gs://speech-cybb-mist/ppt_12_mist_speech/audio_referential_control.wav\"\n",
    "\n",
    "# with open(speech_file, \"rb\") as audio_file:\n",
    "#     content = audio_file.read()\n",
    "# audio = speech.RecognitionAudio(content=content)\n",
    "\n",
    "audio = speech.RecognitionAudio(uri=speech_file)\n",
    "\n",
    "config = speech.RecognitionConfig(\n",
    "    encoding=speech.RecognitionConfig.AudioEncoding.LINEAR16,\n",
    "#     sample_rate_hertz=16000,\n",
    "    language_code=\"nl-BE\",\n",
    "    enable_word_confidence=True,\n",
    ")\n",
    "\n",
    "# response = client.recognize(config=config, audio=audio)\n",
    "response = client.long_running_recognize(config=config, audio=audio)\n",
    "\n",
    "for i, result in enumerate(response.results):\n",
    "    alternative = result.alternatives[0]\n",
    "    print(\"-\" * 20)\n",
    "    print(\"First alternative of result {}\".format(i))\n",
    "    print(u\"Transcript: {}\".format(alternative.transcript))\n",
    "    print(\n",
    "        u\"First Word and Confidence: ({}, {})\".format(\n",
    "            alternative.words[0].word, alternative.words[0].confidence\n",
    "        )\n",
    "    )"
   ]
  },
  {
   "cell_type": "code",
   "execution_count": 165,
   "id": "cb0ee942-53d8-4791-b49f-35bfe5431617",
   "metadata": {},
   "outputs": [
    {
     "name": "stdout",
     "output_type": "stream",
     "text": [
      "Waiting for operation to complete...\n",
      "Transcript: Ik zie op het scherm en rekenopgaven staan die staat op het bovenste deel van het scherm aan van het scherm is wit de rekenopgaven omvat een deling eerst en vooral die tussen haakjes staat 72/2 daarna en daarna 2 aftrekkingen en 27 en -4 en die gisteren gelijk aanteken een vraagteken waarde het antwoord zou moeten komen de rekenopgaven is een vrij\n",
      "Confidence: 0.9059465527534485\n",
      "Transcript: moeilijke rekenopgave aan moeilijker dan ik verwacht had om hier te zien te krijgen\n",
      "Confidence: 0.9562501311302185\n"
     ]
    }
   ],
   "source": [
    "gcs_uri = \"gs://speech-cybb-mist/ppt_12_mist_speech/audio_referential_control.wav\"\n",
    "\n",
    "client = speech.SpeechClient()\n",
    "\n",
    "audio = speech.RecognitionAudio(uri=gcs_uri)\n",
    "config = speech.RecognitionConfig(\n",
    "    encoding=speech.RecognitionConfig.AudioEncoding.LINEAR16,\n",
    "    sample_rate_hertz=44100,\n",
    "    language_code=\"nl-BE\",\n",
    ")\n",
    "\n",
    "operation = client.long_running_recognize(config=config, audio=audio)\n",
    "\n",
    "print(\"Waiting for operation to complete...\")\n",
    "response = operation.result(timeout=90)\n",
    "\n",
    "# Each result is for a consecutive portion of the audio. Iterate through\n",
    "# them to get the transcripts for the entire audio file.\n",
    "for result in response.results:\n",
    "    # The first alternative is the most likely one for this portion.\n",
    "    print(u\"Transcript: {}\".format(result.alternatives[0].transcript))\n",
    "    print(\"Confidence: {}\".format(result.alternatives[0].confidence))"
   ]
  },
  {
   "cell_type": "code",
   "execution_count": 167,
   "id": "70478f68-fb0f-4b5e-b130-ad74f9b0a975",
   "metadata": {},
   "outputs": [
    {
     "name": "stdout",
     "output_type": "stream",
     "text": [
      "Waiting for operation to complete...\n",
      "Transcript: om de afbeelding is een rekensom zien met hand helemaal in welk jaar is tussenhaakjes 50 gedeeld door 2 dan daarna volgt een intake en dan 21 - 4 = vraagteken en rekenen 50 gedeeld door 3236 min 27\n",
      "Confidence: 0.8086049556732178\n",
      "Transcript: Don\n",
      "Confidence: 0.5828940868377686\n",
      "Transcript:  natuurlijk 15 uur\n",
      "Confidence: 0.5208269953727722\n",
      "Transcript:  waarschijnlijk\n",
      "Confidence: 0.9562501311302185\n",
      "Transcript:  rekensom natuurlijk niet opgehaald Ik noem jou dat natuurlijk op volgorde van bewerking die dingen moet doen en dan\n",
      "Confidence: 0.7964165806770325\n"
     ]
    }
   ],
   "source": [
    "gcs_uri = \"gs://speech-cybb-mist/ppt_21_mist_speech/audio_referential_control.wav\"\n",
    "\n",
    "client = speech.SpeechClient()\n",
    "\n",
    "audio = speech.RecognitionAudio(uri=gcs_uri)\n",
    "config = speech.RecognitionConfig(\n",
    "    encoding=speech.RecognitionConfig.AudioEncoding.LINEAR16,\n",
    "    sample_rate_hertz=44100,\n",
    "    language_code=\"nl-BE\",\n",
    ")\n",
    "\n",
    "operation = client.long_running_recognize(config=config, audio=audio)\n",
    "\n",
    "print(\"Waiting for operation to complete...\")\n",
    "response = operation.result(timeout=90)\n",
    "\n",
    "# Each result is for a consecutive portion of the audio. Iterate through\n",
    "# them to get the transcripts for the entire audio file.\n",
    "for result in response.results:\n",
    "    # The first alternative is the most likely one for this portion.\n",
    "    print(u\"Transcript: {}\".format(result.alternatives[0].transcript))\n",
    "    print(\"Confidence: {}\".format(result.alternatives[0].confidence))"
   ]
  },
  {
   "cell_type": "markdown",
   "id": "69c2e808-1ea3-4786-a125-6150fb3fc17e",
   "metadata": {},
   "source": [
    "# The quest to confidence"
   ]
  },
  {
   "cell_type": "code",
   "execution_count": 128,
   "id": "53f94a37-652d-489c-b0b4-3281cb3921a1",
   "metadata": {},
   "outputs": [],
   "source": [
    "r = sr.Recognizer()\n",
    "with sr.WavFile(filename) as source:\n",
    "    audio = r.record(source)\n",
    "list = r.recognize_google(audio, None, \"nl-BE\", True)"
   ]
  },
  {
   "cell_type": "code",
   "execution_count": 129,
   "id": "a140b2f7-ef55-4fda-82df-d37293961990",
   "metadata": {},
   "outputs": [
    {
     "data": {
      "text/plain": [
       "{'alternative': [{'transcript': 'op de afbeeldingen afbeelding van een rekensom x door 72 keer 2 en dan 30 eten komen en dan denk ik dat ik eerst die andere twee samen heb genomen tot dat 31 uitkwam en dan kan ik zo even uit denk dat ik wel redelijk op mijn gemak was was het toch erg dat je snel snel denken maar wordt in ieder geval heerlijk rustig en de regels opgesteld dat het 72/2 met een breuk met een scherm wordt weergegeven te haakjes en dan datum 27 en 4 en dan lekker tegen en scherpe vraagteken',\n",
       "   'confidence': 0.91912794},\n",
       "  {'transcript': 'op de afbeeldingen afbeelding van een rekensom x door 72 keer 2 en dan 30 te komen en dan denk ik dat ik eerst die andere twee samen heb genomen tot dat 31 uitkwam en dan kan ik zo even uit denk dat ik wel redelijk op mijn gemak was was het toch erg dat je snel snel denken maar wordt in ieder geval heerlijk rustig en de regels opgesteld dat het 72/2 met een breuk met het scherm wordt weergegeven te haakjes en dan datum 27 en 4 en dan lekker tegen en scherpe vraagteken'},\n",
       "  {'transcript': 'op de afbeeldingen afbeelding van een rekensom x door 72 keer 2 en dan 30 weken te komen en dan denk ik dat ik eerst die andere twee samen heb genomen tot dat 31 uitkwam en dan kan ik zo even uit denk dat ik wel redelijk op mijn gemak was was het toch erg dat je snel snel denken maar wordt in ieder geval heerlijk rustig en de regels opgesteld dat het 72/2 met een breuk met het scherm wordt weergegeven te haakjes en dan datum 27 en 4 en dan lekker tegen en scherpe vraagteken'},\n",
       "  {'transcript': 'op de afbeeldingen afbeelding van een rekensom x door 72 keer 2 en dan 30 eten komen en dan denk ik dat ik eerst die andere twee samen heb genomen tot dat 31 uitkwam en dan kan ik zo even uit denk dat ik wel redelijk op mijn gemak was was het toch erg dat je snel snel denken maar wordt in ieder geval heerlijk rustig en de regels opgesteld dat het 72/2 met een breuk met een scherm wordt weergegeven te haakjes en dan datum 27 en 4 en dan lekker tegen en scherpe en vraagteken'},\n",
       "  {'transcript': 'op de afbeeldingen afbeelding van een rekensom x door 72 keer 2 en dan 30 uit te komen en dan denk ik dat ik eerst die andere twee samen heb genomen tot dat 31 uitkwam en dan kan ik zo even uit denk dat ik wel redelijk op mijn gemak was was het toch erg dat je snel snel denken maar wordt in ieder geval heerlijk rustig en de regels opgesteld dat het 72/2 met een breuk met het scherm wordt weergegeven te haakjes en dan datum 27 en 4 en dan lekker tegen en scherpe vraagteken'}],\n",
       " 'final': True}"
      ]
     },
     "execution_count": 129,
     "metadata": {},
     "output_type": "execute_result"
    }
   ],
   "source": [
    "list"
   ]
  },
  {
   "cell_type": "code",
   "execution_count": 127,
   "id": "211a560e-99dd-49b7-b127-1216f6324876",
   "metadata": {},
   "outputs": [
    {
     "name": "stdout",
     "output_type": "stream",
     "text": [
      "Help on method recognize_google in module speech_recognition:\n",
      "\n",
      "recognize_google(audio_data, key=None, language='en-US', show_all=False) method of speech_recognition.Recognizer instance\n",
      "    Performs speech recognition on ``audio_data`` (an ``AudioData`` instance), using the Google Speech Recognition API.\n",
      "    \n",
      "    The Google Speech Recognition API key is specified by ``key``. If not specified, it uses a generic key that works out of the box. This should generally be used for personal or testing purposes only, as it **may be revoked by Google at any time**.\n",
      "    \n",
      "    To obtain your own API key, simply following the steps on the `API Keys <http://www.chromium.org/developers/how-tos/api-keys>`__ page at the Chromium Developers site. In the Google Developers Console, Google Speech Recognition is listed as \"Speech API\".\n",
      "    \n",
      "    The recognition language is determined by ``language``, an RFC5646 language tag like ``\"en-US\"`` (US English) or ``\"fr-FR\"`` (International French), defaulting to US English. A list of supported language tags can be found in this `StackOverflow answer <http://stackoverflow.com/a/14302134>`__.\n",
      "    \n",
      "    Returns the most likely transcription if ``show_all`` is false (the default). Otherwise, returns the raw API response as a JSON dictionary.\n",
      "    \n",
      "    Raises a ``speech_recognition.UnknownValueError`` exception if the speech is unintelligible. Raises a ``speech_recognition.RequestError`` exception if the speech recognition operation failed, if the key isn't valid, or if there is no internet connection.\n",
      "\n"
     ]
    }
   ],
   "source": [
    "help(r.recognize_google)"
   ]
  },
  {
   "cell_type": "code",
   "execution_count": 138,
   "id": "f0853a88-2411-4d93-abda-08f160a0d45b",
   "metadata": {},
   "outputs": [
    {
     "name": "stdout",
     "output_type": "stream",
     "text": [
      "op de afbeeldingen afbeelding van een rekensom x door 72 keer 2 en dan 30 eten komen en dan denk ik dat ik eerst die andere twee samen heb genomen tot dat 31 uitkwam en dan kan ik zo even uit denk dat ik wel redelijk op mijn gemak was was het toch erg dat je snel snel denken maar wordt in ieder geval heerlijk rustig en de regels opgesteld dat het 72/2 met een breuk met een scherm wordt weergegeven te haakjes en dan datum 27 en 4 en dan lekker tegen en scherpe vraagteken => op de afbeeldingen afbeelding van een rekensom x door 72 keer 2 en dan 30 uit te komen en dan denk ik dat ik eerst die andere twee samen heb genomen tot dat 31 uitkwam en dan kan ik zo even uit denk dat ik wel redelijk op mijn gemak was was het toch erg dat je snel snel denken maar wordt in ieder geval heerlijk rustig en de regels opgesteld dat het 72/2 met een breuk met het scherm wordt weergegeven te haakjes en dan datum 27 en 4 en dan lekker tegen en scherpe vraagteken\n",
      "Delete \"e\" from position 74\n",
      "Add \"u\" to position 75\n",
      "Add \"i\" to position 76\n",
      "Add \" \" to position 78\n",
      "Add \"t\" to position 79\n",
      "Delete \"n\" from position 81\n",
      "Add \"h\" to position 376\n",
      "Add \"t\" to position 378\n",
      "Delete \"e\" from position 379\n",
      "Delete \"n\" from position 380\n",
      "\n"
     ]
    }
   ],
   "source": [
    "# Check differences between options\n",
    "import difflib\n",
    "\n",
    "for a,b in cases:     \n",
    "    print('{} => {}'.format(a,b))  \n",
    "    for i,s in enumerate(difflib.ndiff(a, b)):\n",
    "        if s[0]==' ': continue\n",
    "        elif s[0]=='-':\n",
    "            print(u'Delete \"{}\" from position {}'.format(s[-1],i))\n",
    "        elif s[0]=='+':\n",
    "            print(u'Add \"{}\" to position {}'.format(s[-1],i))    \n",
    "    print() "
   ]
  },
  {
   "cell_type": "code",
   "execution_count": 148,
   "id": "66ef1b17-fc0b-4d88-90f4-4b254fdc705c",
   "metadata": {},
   "outputs": [
    {
     "name": "stdout",
     "output_type": "stream",
     "text": [
      "Delete \"e\" from position 74\n",
      "Add \"u\" to position 75\n",
      "Add \"i\" to position 76\n",
      "Add \" \" to position 78\n",
      "Add \"t\" to position 79\n",
      "Delete \"n\" from position 81\n",
      "Add \"h\" to position 376\n",
      "Add \"t\" to position 378\n",
      "Delete \"e\" from position 379\n",
      "Delete \"n\" from position 380\n"
     ]
    }
   ],
   "source": [
    "for i, s in enumerate(difflib.ndiff(a, b)):\n",
    "    if s[0]==' ': continue\n",
    "    elif s[0]=='-':\n",
    "        print(u'Delete \"{}\" from position {}'.format(s[-1],i))\n",
    "    elif s[0]=='+':\n",
    "        print(u'Add \"{}\" to position {}'.format(s[-1],i))   \n"
   ]
  },
  {
   "cell_type": "code",
   "execution_count": 144,
   "id": "6fb455c3-e570-4d84-b829-c3c16ba18e59",
   "metadata": {},
   "outputs": [
    {
     "data": {
      "text/plain": [
       "'  n'"
      ]
     },
     "execution_count": 144,
     "metadata": {},
     "output_type": "execute_result"
    }
   ],
   "source": [
    "s"
   ]
  },
  {
   "cell_type": "code",
   "execution_count": null,
   "id": "b29f103c-4e57-4845-8ce5-7f4dfcd1f41d",
   "metadata": {},
   "outputs": [],
   "source": []
  }
 ],
 "metadata": {
  "kernelspec": {
   "display_name": "Python 3 (ipykernel)",
   "language": "python",
   "name": "python3"
  },
  "language_info": {
   "codemirror_mode": {
    "name": "ipython",
    "version": 3
   },
   "file_extension": ".py",
   "mimetype": "text/x-python",
   "name": "python",
   "nbconvert_exporter": "python",
   "pygments_lexer": "ipython3",
   "version": "3.9.6"
  }
 },
 "nbformat": 4,
 "nbformat_minor": 5
}
